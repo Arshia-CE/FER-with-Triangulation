{
 "cells": [
  {
   "cell_type": "markdown",
   "source": [
    "## 1 - Importing related libraries and functions\n",
    "In this section we import necessary libraries and functions:\n"
   ],
   "metadata": {
    "collapsed": false
   },
   "id": "2ed0db9e470098b5"
  },
  {
   "cell_type": "code",
   "outputs": [],
   "source": [
    "from delaunay import extract_features\n",
    "import os\n",
    "import cv2\n",
    "import numpy as np\n",
    "import pandas as pd\n",
    "from sklearn.model_selection import train_test_split\n",
    "\n",
    "from sklearn.neighbors import KNeighborsClassifier\n",
    "from sklearn.naive_bayes import GaussianNB\n",
    "from sklearn.svm import SVC\n",
    "from sklearn.tree import DecisionTreeClassifier\n",
    "from sklearn.discriminant_analysis import QuadraticDiscriminantAnalysis\n",
    "from sklearn.ensemble import RandomForestClassifier\n",
    "\n",
    "from sklearn.metrics import classification_report, accuracy_score\n",
    "from sklearn.preprocessing import StandardScaler"
   ],
   "metadata": {
    "collapsed": false,
    "ExecuteTime": {
     "end_time": "2024-05-05T20:54:00.685044Z",
     "start_time": "2024-05-05T20:53:55.824149Z"
    }
   },
   "id": "6bf927ce94bb3c87",
   "execution_count": 1
  },
  {
   "cell_type": "markdown",
   "source": [
    "## 2 - Load and preprocess the dataset\n",
    "In this section we first import our designated dataset which is `CK+` dataset, read ,and load it in an array\n"
   ],
   "metadata": {
    "collapsed": false
   },
   "id": "d7f8a10d40bc6b54"
  },
  {
   "cell_type": "code",
   "outputs": [],
   "source": [
    "dataset_dir = \"dataset\"\n",
    "\n",
    "label_map = {\n",
    "    \"anger\": 0,\n",
    "    \"contempt\": 1,\n",
    "    \"disgust\": 2,\n",
    "    \"fear\": 3,\n",
    "    \"happy\": 4,\n",
    "    \"sadness\": 5,\n",
    "    \"surprise\": 6\n",
    "}\n",
    "# Load and preprocess the dataset\n",
    "def load_ckplus_dataset(dataset_dir):\n",
    "    images = []\n",
    "    labels = []\n",
    "    for subdir in os.listdir(dataset_dir):\n",
    "        if subdir in label_map:  # Check if directory name is a valid label\n",
    "            label = label_map[subdir]  # Get integer label from the mapping\n",
    "            for filename in os.listdir(os.path.join(dataset_dir, subdir)):\n",
    "                if filename.endswith(\".png\"):  # Load only image files (assuming images are in PNG format)\n",
    "                    img_path = os.path.join(dataset_dir, subdir, filename)\n",
    "                    img = cv2.imread(img_path, cv2.IMREAD_GRAYSCALE)  # Convert to grayscale\n",
    "                    img = cv2.resize(img, (100, 100))  # Resize image\n",
    "                    images.append(img)\n",
    "                    labels.append(label)\n",
    "\n",
    "    return images, labels\n",
    "\n",
    "images, labels = load_ckplus_dataset(dataset_dir)\n"
   ],
   "metadata": {
    "collapsed": false,
    "ExecuteTime": {
     "end_time": "2024-05-05T20:54:09.097675Z",
     "start_time": "2024-05-05T20:54:00.687141Z"
    }
   },
   "id": "caaaa839abaf4eed",
   "execution_count": 2
  },
  {
   "cell_type": "markdown",
   "source": [
    "## 3 - Compare the results from raw image classification and delaunay triangulation method\n",
    "### 3.1 - Train the raw dataset\n",
    "As we know the dataset is in grayscale, we need to get the brightness level of each pixel and train our models on each image   \n",
    "then we will report the results:\n",
    "> Note: We have used standard scalar normalization that leads to better results\n"
   ],
   "metadata": {
    "collapsed": false
   },
   "id": "6df24c9b1ffafea0"
  },
  {
   "cell_type": "markdown",
   "source": [
    "#### Pre-Process data:"
   ],
   "metadata": {
    "collapsed": false
   },
   "id": "6a4f0c67ac8a58a"
  },
  {
   "cell_type": "code",
   "outputs": [
    {
     "data": {
      "text/plain": "array([[152, 128,  76, ..., 160, 161, 161],\n       [ 16,  17,  21, ...,  91,  90,  90],\n       [ 73,  74,  75, ...,  86,  86,  86],\n       ...,\n       [132, 132, 132, ..., 232, 222, 218],\n       [203, 203, 202, ..., 188, 187, 187],\n       [ 56,  56,  56, ...,  56,  56,  56]], dtype=uint8)"
     },
     "execution_count": 9,
     "metadata": {},
     "output_type": "execute_result"
    }
   ],
   "source": [
    "# Initialize the scalar\n",
    "scalar = StandardScaler()\n",
    "\n",
    "# Split dataset into training and testing sets\n",
    "X_train, X_test, y_train, y_test = train_test_split(images, labels, test_size=0.2, random_state=42)\n",
    "\n",
    "X_train = np.array([img.flatten() for img in X_train])\n",
    "X_test = np.array([img.flatten() for img in X_test])\n",
    "\n",
    "X_norm = scalar.fit_transform(X_train)\n",
    "X_norm_test = scalar.fit_transform(X_test)\n"
   ],
   "metadata": {
    "collapsed": false,
    "ExecuteTime": {
     "end_time": "2024-05-03T16:09:50.058127Z",
     "start_time": "2024-05-03T16:09:49.837580Z"
    }
   },
   "id": "d582dba57742cc81",
   "execution_count": 9
  },
  {
   "cell_type": "markdown",
   "source": [
    "#### Training phase: \n",
    "1. SVM Model:"
   ],
   "metadata": {
    "collapsed": false
   },
   "id": "8b3931d4919e155d"
  },
  {
   "cell_type": "code",
   "outputs": [
    {
     "name": "stdout",
     "output_type": "stream",
     "text": [
      "Accuracy: 0.8934010152284264\n",
      "Classification Report:\n",
      "               precision    recall  f1-score   support\n",
      "\n",
      "           0       0.83      0.87      0.85        23\n",
      "           1       0.64      0.78      0.70         9\n",
      "           2       0.86      0.88      0.87        43\n",
      "           3       0.82      0.93      0.88        15\n",
      "           4       1.00      0.95      0.98        43\n",
      "           5       1.00      0.68      0.81        19\n",
      "           6       0.91      0.96      0.93        45\n",
      "\n",
      "    accuracy                           0.89       197\n",
      "   macro avg       0.87      0.87      0.86       197\n",
      "weighted avg       0.90      0.89      0.89       197\n"
     ]
    }
   ],
   "source": [
    "# Train the SVM classifier\n",
    "svm_classifier = SVC(kernel='rbf', C=1.0, gamma='scale')\n",
    "svm_classifier.fit(X_norm, y_train)\n",
    "\n",
    "# Evaluate the classifier\n",
    "y_pred = svm_classifier.predict(X_norm_test)\n",
    "accuracy = accuracy_score(y_test, y_pred)\n",
    "report = classification_report(y_test, y_pred)\n",
    "\n",
    "print(\"Accuracy:\", accuracy)\n",
    "print(\"Classification Report:\\n\", report)"
   ],
   "metadata": {
    "collapsed": false,
    "ExecuteTime": {
     "end_time": "2024-05-03T15:56:48.894576Z",
     "start_time": "2024-05-03T15:56:43.979094Z"
    }
   },
   "id": "4dfe9b6c8e2a0d35",
   "execution_count": 22
  },
  {
   "cell_type": "markdown",
   "source": [
    "2. K-Nearest-Neighbors model:"
   ],
   "metadata": {
    "collapsed": false
   },
   "id": "e947e2952cf4c1e6"
  },
  {
   "cell_type": "code",
   "outputs": [
    {
     "name": "stdout",
     "output_type": "stream",
     "text": [
      "Accuracy: 0.3604060913705584\n",
      "Classification Report:\n",
      "               precision    recall  f1-score   support\n",
      "\n",
      "           0       0.21      0.43      0.28        23\n",
      "           1       0.50      0.44      0.47         9\n",
      "           2       0.37      0.40      0.38        43\n",
      "           3       0.29      0.13      0.18        15\n",
      "           4       0.34      0.33      0.33        43\n",
      "           5       0.24      0.21      0.22        19\n",
      "           6       0.67      0.44      0.53        45\n",
      "\n",
      "    accuracy                           0.36       197\n",
      "   macro avg       0.37      0.34      0.34       197\n",
      "weighted avg       0.40      0.36      0.37       197\n"
     ]
    }
   ],
   "source": [
    "# Train the KNN classifier\n",
    "knn_classifier = KNeighborsClassifier(n_neighbors=5)\n",
    "knn_classifier.fit(X_norm, y_train)\n",
    "\n",
    "# Evaluate the classifier\n",
    "y_pred = knn_classifier.predict(X_norm_test)\n",
    "accuracy = accuracy_score(y_test, y_pred)\n",
    "report = classification_report(y_test, y_pred)\n",
    "\n",
    "print(\"Accuracy:\", accuracy)\n",
    "print(\"Classification Report:\\n\", report)"
   ],
   "metadata": {
    "collapsed": false,
    "ExecuteTime": {
     "end_time": "2024-05-03T15:56:50.181759Z",
     "start_time": "2024-05-03T15:56:48.898724Z"
    }
   },
   "id": "42b5a9971627fd34",
   "execution_count": 23
  },
  {
   "cell_type": "markdown",
   "source": [
    "3. Naive Bayesian Classification:"
   ],
   "metadata": {
    "collapsed": false
   },
   "id": "3b5b09687d5923a2"
  },
  {
   "cell_type": "code",
   "outputs": [
    {
     "name": "stdout",
     "output_type": "stream",
     "text": [
      "Accuracy: 0.467005076142132\n",
      "Classification Report:\n",
      "               precision    recall  f1-score   support\n",
      "\n",
      "           0       0.10      0.17      0.13        23\n",
      "           1       0.21      0.56      0.30         9\n",
      "           2       0.43      0.47      0.45        43\n",
      "           3       0.00      0.00      0.00        15\n",
      "           4       0.66      0.63      0.64        43\n",
      "           5       0.40      0.11      0.17        19\n",
      "           6       0.89      0.76      0.82        45\n",
      "\n",
      "    accuracy                           0.47       197\n",
      "   macro avg       0.39      0.38      0.36       197\n",
      "weighted avg       0.50      0.47      0.47       197\n"
     ]
    }
   ],
   "source": [
    "# Train the GNB classifier\n",
    "gnb_classifier = GaussianNB()\n",
    "gnb_classifier.fit(X_norm, y_train)\n",
    "\n",
    "# Evaluate the classifier\n",
    "y_pred = gnb_classifier.predict(X_norm_test)\n",
    "accuracy = accuracy_score(y_test, y_pred)\n",
    "report = classification_report(y_test, y_pred)\n",
    "\n",
    "print(\"Accuracy:\", accuracy)\n",
    "print(\"Classification Report:\\n\", report)"
   ],
   "metadata": {
    "collapsed": false,
    "ExecuteTime": {
     "end_time": "2024-05-03T15:56:50.477608Z",
     "start_time": "2024-05-03T15:56:50.184324Z"
    }
   },
   "id": "a1e9d20b57f6634a",
   "execution_count": 24
  },
  {
   "cell_type": "markdown",
   "source": [
    "4. Decision Tree:"
   ],
   "metadata": {
    "collapsed": false
   },
   "id": "e1b5bc85a950d9e6"
  },
  {
   "cell_type": "code",
   "outputs": [
    {
     "name": "stdout",
     "output_type": "stream",
     "text": [
      "Accuracy: 0.7918781725888325\n",
      "Classification Report:\n",
      "               precision    recall  f1-score   support\n",
      "\n",
      "           0       0.56      0.61      0.58        23\n",
      "           1       0.56      0.56      0.56         9\n",
      "           2       0.92      0.79      0.85        43\n",
      "           3       0.50      0.80      0.62        15\n",
      "           4       0.86      0.88      0.87        43\n",
      "           5       0.94      0.79      0.86        19\n",
      "           6       0.90      0.84      0.87        45\n",
      "\n",
      "    accuracy                           0.79       197\n",
      "   macro avg       0.75      0.75      0.74       197\n",
      "weighted avg       0.82      0.79      0.80       197\n"
     ]
    }
   ],
   "source": [
    "# Train the Tree classifier\n",
    "tree_classifier = DecisionTreeClassifier() \n",
    "tree_classifier.fit(X_norm, y_train)\n",
    "\n",
    "# Evaluate the classifier\n",
    "y_pred = tree_classifier.predict(X_norm_test)\n",
    "accuracy = accuracy_score(y_test, y_pred)\n",
    "report = classification_report(y_test, y_pred)\n",
    "\n",
    "print(\"Accuracy:\", accuracy)\n",
    "print(\"Classification Report:\\n\", report)"
   ],
   "metadata": {
    "collapsed": false,
    "ExecuteTime": {
     "end_time": "2024-05-03T15:56:55.252128Z",
     "start_time": "2024-05-03T15:56:50.479606Z"
    }
   },
   "id": "e119eec065e9fea3",
   "execution_count": 25
  },
  {
   "cell_type": "markdown",
   "source": [
    "5. Quadratic Discriminant Analysis:"
   ],
   "metadata": {
    "collapsed": false
   },
   "id": "3c6ce9783cfaba93"
  },
  {
   "cell_type": "code",
   "outputs": [
    {
     "name": "stderr",
     "output_type": "stream",
     "text": [
      "C:\\Users\\user\\AppData\\Local\\Programs\\Python\\Python310\\lib\\site-packages\\sklearn\\discriminant_analysis.py:935: UserWarning: Variables are collinear\n",
      "  warnings.warn(\"Variables are collinear\")\n"
     ]
    },
    {
     "name": "stdout",
     "output_type": "stream",
     "text": [
      "Accuracy: 0.48223350253807107\n",
      "Classification Report:\n",
      "               precision    recall  f1-score   support\n",
      "\n",
      "           0       0.43      0.43      0.43        23\n",
      "           1       0.30      0.67      0.41         9\n",
      "           2       0.51      0.51      0.51        43\n",
      "           3       0.75      0.20      0.32        15\n",
      "           4       0.53      0.49      0.51        43\n",
      "           5       0.35      0.37      0.36        19\n",
      "           6       0.55      0.58      0.57        45\n",
      "\n",
      "    accuracy                           0.48       197\n",
      "   macro avg       0.49      0.46      0.44       197\n",
      "weighted avg       0.51      0.48      0.48       197\n"
     ]
    }
   ],
   "source": [
    "# Train the QDA classifier\n",
    "qda_classifier = QuadraticDiscriminantAnalysis()\n",
    "qda_classifier.fit(X_norm, y_train)\n",
    "\n",
    "# Evaluate the classifier\n",
    "y_pred = qda_classifier.predict(X_norm_test)\n",
    "accuracy = accuracy_score(y_test, y_pred)\n",
    "report = classification_report(y_test, y_pred)\n",
    "\n",
    "print(\"Accuracy:\", accuracy)\n",
    "print(\"Classification Report:\\n\", report)"
   ],
   "metadata": {
    "collapsed": false,
    "ExecuteTime": {
     "end_time": "2024-05-03T15:56:56.324665Z",
     "start_time": "2024-05-03T15:56:55.255557Z"
    }
   },
   "id": "3e78e64d607426aa",
   "execution_count": 26
  },
  {
   "cell_type": "markdown",
   "source": [
    "6. Random Forest:"
   ],
   "metadata": {
    "collapsed": false
   },
   "id": "e1c6db645e02de5b"
  },
  {
   "cell_type": "code",
   "outputs": [
    {
     "name": "stdout",
     "output_type": "stream",
     "text": [
      "Accuracy: 0.9898477157360406\n",
      "Classification Report:\n",
      "               precision    recall  f1-score   support\n",
      "\n",
      "           0       0.96      0.96      0.96        23\n",
      "           1       1.00      1.00      1.00         9\n",
      "           2       1.00      1.00      1.00        43\n",
      "           3       1.00      1.00      1.00        15\n",
      "           4       1.00      1.00      1.00        43\n",
      "           5       1.00      0.95      0.97        19\n",
      "           6       0.98      1.00      0.99        45\n",
      "\n",
      "    accuracy                           0.99       197\n",
      "   macro avg       0.99      0.99      0.99       197\n",
      "weighted avg       0.99      0.99      0.99       197\n"
     ]
    }
   ],
   "source": [
    "# Train the rf classifier\n",
    "rf_classifier = RandomForestClassifier()\n",
    "rf_classifier.fit(X_norm, y_train)\n",
    "\n",
    "# Evaluate the classifier\n",
    "y_pred = rf_classifier.predict(X_norm_test)\n",
    "accuracy = accuracy_score(y_test, y_pred)\n",
    "report = classification_report(y_test, y_pred)\n",
    "\n",
    "print(\"Accuracy:\", accuracy)\n",
    "print(\"Classification Report:\\n\", report)"
   ],
   "metadata": {
    "collapsed": false,
    "ExecuteTime": {
     "end_time": "2024-05-03T15:56:59.717226Z",
     "start_time": "2024-05-03T15:56:56.326631Z"
    }
   },
   "id": "a6f79af31e4ffb71",
   "execution_count": 27
  },
  {
   "cell_type": "markdown",
   "source": [
    "### 3.2 - Train the on dataset with triangulation\n",
    "As implemented in the corresponding class, we need to detect landmarks of each image and use the detected points to train our model and give the results: \n",
    "> Note: We have used standard scalar normalization that leads to better results\n"
   ],
   "metadata": {
    "collapsed": false
   },
   "id": "a30d1d3e1c219011"
  },
  {
   "cell_type": "markdown",
   "source": [
    "We first build a function to process landmarks for rach image and save it to save time:"
   ],
   "metadata": {
    "collapsed": false
   },
   "id": "6bfffca233c4ee9b"
  },
  {
   "cell_type": "code",
   "outputs": [],
   "source": [
    "def extract_landmark_features(images):\n",
    "    landmarks_list = []\n",
    "    feature_lengths = []\n",
    "    \n",
    "    for image in images:\n",
    "        features = extract_features(image)[0].tolist()\n",
    "        landmarks_list.append(features)\n",
    "        feature_lengths.append(len(features))\n",
    "\n",
    "    max_features = max(feature_lengths)\n",
    "\n",
    "    for i in range(len(images)):\n",
    "        current_length = len(landmarks_list[i])\n",
    "        if current_length < max_features:\n",
    "            padding = [0] * (max_features - current_length)\n",
    "            landmarks_list[i].extend(padding)\n",
    "\n",
    "    head = np.arange(max_features)\n",
    "    data = pd.DataFrame(landmarks_list, columns=head)\n",
    "    data.to_csv('features.csv', index=False)\n",
    "    \n",
    "    return np.array(landmarks_list)\n",
    "\n",
    "landmark_features = extract_landmark_features(images)"
   ],
   "metadata": {
    "collapsed": false,
    "ExecuteTime": {
     "end_time": "2024-05-03T19:15:19.771517Z",
     "start_time": "2024-05-03T18:33:47.257056Z"
    }
   },
   "id": "ba15b540bdf56250",
   "execution_count": 50
  },
  {
   "cell_type": "markdown",
   "source": [
    "### Pre-Process data:\n",
    "we use previously stored data for training:"
   ],
   "metadata": {
    "collapsed": false
   },
   "id": "c6d1d88540b1233b"
  },
  {
   "cell_type": "code",
   "outputs": [
    {
     "data": {
      "text/plain": "array([[ 9., 55., 10., ...,  0.,  0.,  0.],\n       [ 9., 55., 10., ...,  0.,  0.,  0.],\n       [17., 36.,  0., ...,  0.,  0.,  0.],\n       ...,\n       [10., 54., 11., ...,  0.,  0.,  0.],\n       [15., 13., 14., ...,  0.,  0.,  0.],\n       [35., 15., 14., ...,  0.,  0.,  0.]])"
     },
     "execution_count": 6,
     "metadata": {},
     "output_type": "execute_result"
    }
   ],
   "source": [
    "df = pd.read_csv('features.csv')\n",
    "landmark_features = df.values\n",
    "\n",
    "# Initialize the scalar\n",
    "scalar = StandardScaler()\n",
    "\n",
    "# Split dataset into training and testing sets\n",
    "X_train, X_test, y_train, y_test = train_test_split(landmark_features, labels, test_size=0.1, random_state=42)\n",
    "\n",
    "X_train = np.array([img.flatten() for img in X_train])\n",
    "X_test = np.array([img.flatten() for img in X_test])\n",
    "\n",
    "X_norm = scalar.fit_transform(X_train)\n",
    "X_norm_test = scalar.transform(X_test)\n",
    "\n",
    "landmark_features"
   ],
   "metadata": {
    "collapsed": false,
    "ExecuteTime": {
     "end_time": "2024-05-05T20:59:22.688592Z",
     "start_time": "2024-05-05T20:59:21.333984Z"
    }
   },
   "id": "3de9ca7e8dbf9f61",
   "execution_count": 6
  },
  {
   "cell_type": "markdown",
   "source": [
    "#### Training phase: \n",
    "1. SVM Model:"
   ],
   "metadata": {
    "collapsed": false
   },
   "id": "bace7c927f986957"
  },
  {
   "cell_type": "code",
   "outputs": [
    {
     "name": "stdout",
     "output_type": "stream",
     "text": [
      "Accuracy: 0.41414141414141414\n",
      "Classification Report:\n",
      "               precision    recall  f1-score   support\n",
      "\n",
      "           0       0.36      0.38      0.37        13\n",
      "           1       0.00      0.00      0.00         4\n",
      "           2       0.50      0.30      0.38        23\n",
      "           3       0.00      0.00      0.00         3\n",
      "           4       0.40      0.60      0.48        20\n",
      "           5       0.00      0.00      0.00         9\n",
      "           6       0.41      0.63      0.50        27\n",
      "\n",
      "    accuracy                           0.41        99\n",
      "   macro avg       0.24      0.27      0.25        99\n",
      "weighted avg       0.36      0.41      0.37        99\n"
     ]
    },
    {
     "name": "stderr",
     "output_type": "stream",
     "text": [
      "C:\\Users\\user\\AppData\\Local\\Programs\\Python\\Python310\\lib\\site-packages\\sklearn\\metrics\\_classification.py:1509: UndefinedMetricWarning: Precision is ill-defined and being set to 0.0 in labels with no predicted samples. Use `zero_division` parameter to control this behavior.\n",
      "  _warn_prf(average, modifier, f\"{metric.capitalize()} is\", len(result))\n",
      "C:\\Users\\user\\AppData\\Local\\Programs\\Python\\Python310\\lib\\site-packages\\sklearn\\metrics\\_classification.py:1509: UndefinedMetricWarning: Precision is ill-defined and being set to 0.0 in labels with no predicted samples. Use `zero_division` parameter to control this behavior.\n",
      "  _warn_prf(average, modifier, f\"{metric.capitalize()} is\", len(result))\n",
      "C:\\Users\\user\\AppData\\Local\\Programs\\Python\\Python310\\lib\\site-packages\\sklearn\\metrics\\_classification.py:1509: UndefinedMetricWarning: Precision is ill-defined and being set to 0.0 in labels with no predicted samples. Use `zero_division` parameter to control this behavior.\n",
      "  _warn_prf(average, modifier, f\"{metric.capitalize()} is\", len(result))\n"
     ]
    }
   ],
   "source": [
    "# Train the SVM classifier\n",
    "svm_classifier_tri = SVC(kernel='rbf', C=1.0, gamma='scale')\n",
    "svm_classifier_tri.fit(X_norm, y_train)\n",
    "\n",
    "# Evaluate the classifier\n",
    "y_pred = svm_classifier_tri.predict(X_norm_test)\n",
    "accuracy = accuracy_score(y_test, y_pred)\n",
    "report = classification_report(y_test, y_pred)\n",
    "\n",
    "print(\"Accuracy:\", accuracy)\n",
    "print(\"Classification Report:\\n\", report)"
   ],
   "metadata": {
    "collapsed": false,
    "ExecuteTime": {
     "end_time": "2024-05-05T20:59:30.518051Z",
     "start_time": "2024-05-05T20:59:30.289041Z"
    }
   },
   "id": "4b8e9315c5db66a8",
   "execution_count": 7
  },
  {
   "cell_type": "markdown",
   "source": [
    "2. K-Nearest-Neighbors model:"
   ],
   "metadata": {
    "collapsed": false
   },
   "id": "aeb9b26f9deb925d"
  },
  {
   "cell_type": "code",
   "outputs": [
    {
     "name": "stdout",
     "output_type": "stream",
     "text": [
      "Accuracy: 0.2828282828282828\n",
      "Classification Report:\n",
      "               precision    recall  f1-score   support\n",
      "\n",
      "           0       0.13      0.31      0.19        13\n",
      "           1       0.00      0.00      0.00         4\n",
      "           2       0.33      0.61      0.43        23\n",
      "           3       0.00      0.00      0.00         3\n",
      "           4       0.67      0.20      0.31        20\n",
      "           5       0.00      0.00      0.00         9\n",
      "           6       0.60      0.22      0.32        27\n",
      "\n",
      "    accuracy                           0.28        99\n",
      "   macro avg       0.25      0.19      0.18        99\n",
      "weighted avg       0.39      0.28      0.28        99\n"
     ]
    }
   ],
   "source": [
    "# Train the KNN classifier\n",
    "knn_classifier_tri = KNeighborsClassifier(n_neighbors=5)\n",
    "knn_classifier_tri.fit(X_norm, y_train)\n",
    "\n",
    "# Evaluate the classifier\n",
    "y_pred = knn_classifier_tri.predict(X_norm_test)\n",
    "accuracy = accuracy_score(y_test, y_pred)\n",
    "report = classification_report(y_test, y_pred)\n",
    "\n",
    "print(\"Accuracy:\", accuracy)\n",
    "print(\"Classification Report:\\n\", report)"
   ],
   "metadata": {
    "collapsed": false,
    "ExecuteTime": {
     "end_time": "2024-05-05T20:59:39.736016Z",
     "start_time": "2024-05-05T20:59:39.187361Z"
    }
   },
   "id": "e028edc6f7af989e",
   "execution_count": 8
  },
  {
   "cell_type": "markdown",
   "source": [
    "3. Naive Bayesian Classification:"
   ],
   "metadata": {
    "collapsed": false
   },
   "id": "6fd486766b641c7e"
  },
  {
   "cell_type": "code",
   "outputs": [
    {
     "name": "stdout",
     "output_type": "stream",
     "text": [
      "Accuracy: 0.050505050505050504\n",
      "Classification Report:\n",
      "               precision    recall  f1-score   support\n",
      "\n",
      "           0       0.00      0.00      0.00        13\n",
      "           1       0.07      1.00      0.14         4\n",
      "           2       0.00      0.00      0.00        23\n",
      "           3       0.00      0.00      0.00         3\n",
      "           4       0.25      0.05      0.08        20\n",
      "           5       0.00      0.00      0.00         9\n",
      "           6       0.00      0.00      0.00        27\n",
      "\n",
      "    accuracy                           0.05        99\n",
      "   macro avg       0.05      0.15      0.03        99\n",
      "weighted avg       0.05      0.05      0.02        99\n"
     ]
    },
    {
     "name": "stderr",
     "output_type": "stream",
     "text": [
      "C:\\Users\\user\\AppData\\Local\\Programs\\Python\\Python310\\lib\\site-packages\\sklearn\\metrics\\_classification.py:1509: UndefinedMetricWarning: Precision is ill-defined and being set to 0.0 in labels with no predicted samples. Use `zero_division` parameter to control this behavior.\n",
      "  _warn_prf(average, modifier, f\"{metric.capitalize()} is\", len(result))\n",
      "C:\\Users\\user\\AppData\\Local\\Programs\\Python\\Python310\\lib\\site-packages\\sklearn\\metrics\\_classification.py:1509: UndefinedMetricWarning: Precision is ill-defined and being set to 0.0 in labels with no predicted samples. Use `zero_division` parameter to control this behavior.\n",
      "  _warn_prf(average, modifier, f\"{metric.capitalize()} is\", len(result))\n",
      "C:\\Users\\user\\AppData\\Local\\Programs\\Python\\Python310\\lib\\site-packages\\sklearn\\metrics\\_classification.py:1509: UndefinedMetricWarning: Precision is ill-defined and being set to 0.0 in labels with no predicted samples. Use `zero_division` parameter to control this behavior.\n",
      "  _warn_prf(average, modifier, f\"{metric.capitalize()} is\", len(result))\n"
     ]
    }
   ],
   "source": [
    "# Train the GNB classifier\n",
    "gnb_classifier_tri = GaussianNB()\n",
    "gnb_classifier_tri.fit(X_norm, y_train)\n",
    "\n",
    "# Evaluate the classifier\n",
    "y_pred = gnb_classifier_tri.predict(X_norm_test)\n",
    "accuracy = accuracy_score(y_test, y_pred)\n",
    "report = classification_report(y_test, y_pred)\n",
    "\n",
    "print(\"Accuracy:\", accuracy)\n",
    "print(\"Classification Report:\\n\", report)"
   ],
   "metadata": {
    "collapsed": false,
    "ExecuteTime": {
     "end_time": "2024-05-03T19:18:34.513377Z",
     "start_time": "2024-05-03T19:18:34.382175Z"
    }
   },
   "id": "211b335383b8b01d",
   "execution_count": 55
  },
  {
   "cell_type": "markdown",
   "source": [
    "4. Decision Tree:"
   ],
   "metadata": {
    "collapsed": false
   },
   "id": "efbb9c36ff5c606f"
  },
  {
   "cell_type": "code",
   "outputs": [
    {
     "name": "stdout",
     "output_type": "stream",
     "text": [
      "Accuracy: 0.29441624365482233\n",
      "Classification Report:\n",
      "               precision    recall  f1-score   support\n",
      "\n",
      "           0       0.09      0.13      0.10        23\n",
      "           1       0.08      0.11      0.09         9\n",
      "           2       0.35      0.26      0.30        43\n",
      "           3       0.25      0.20      0.22        15\n",
      "           4       0.39      0.33      0.35        43\n",
      "           5       0.04      0.05      0.05        19\n",
      "           6       0.54      0.56      0.55        45\n",
      "\n",
      "    accuracy                           0.29       197\n",
      "   macro avg       0.25      0.23      0.24       197\n",
      "weighted avg       0.32      0.29      0.31       197\n"
     ]
    }
   ],
   "source": [
    "# Train the Tree classifier\n",
    "tree_classifier_tri = DecisionTreeClassifier() \n",
    "tree_classifier_tri.fit(X_norm, y_train)\n",
    "\n",
    "# Evaluate the classifier\n",
    "y_pred = tree_classifier_tri.predict(X_norm_test)\n",
    "accuracy = accuracy_score(y_test, y_pred)\n",
    "report = classification_report(y_test, y_pred)\n",
    "\n",
    "print(\"Accuracy:\", accuracy)\n",
    "print(\"Classification Report:\\n\", report)"
   ],
   "metadata": {
    "collapsed": false,
    "ExecuteTime": {
     "end_time": "2024-05-03T17:57:59.197578Z",
     "start_time": "2024-05-03T17:57:58.640252Z"
    }
   },
   "id": "61616999675a29aa",
   "execution_count": 36
  },
  {
   "cell_type": "markdown",
   "source": [
    "5. Quadratic Discriminant Analysis:"
   ],
   "metadata": {
    "collapsed": false
   },
   "id": "7662ec91bc9d82df"
  },
  {
   "cell_type": "code",
   "outputs": [
    {
     "name": "stderr",
     "output_type": "stream",
     "text": [
      "C:\\Users\\user\\AppData\\Local\\Programs\\Python\\Python310\\lib\\site-packages\\sklearn\\discriminant_analysis.py:935: UserWarning: Variables are collinear\n",
      "  warnings.warn(\"Variables are collinear\")\n"
     ]
    },
    {
     "name": "stdout",
     "output_type": "stream",
     "text": [
      "train Accuracy: 1.0\n",
      "Accuracy: 0.16161616161616163\n",
      "Classification Report:\n",
      "               precision    recall  f1-score   support\n",
      "\n",
      "           0       0.33      0.46      0.39        13\n",
      "           1       0.00      0.00      0.00         4\n",
      "           2       0.15      0.13      0.14        23\n",
      "           3       0.00      0.00      0.00         3\n",
      "           4       0.17      0.15      0.16        20\n",
      "           5       0.11      0.22      0.15         9\n",
      "           6       0.22      0.07      0.11        27\n",
      "\n",
      "    accuracy                           0.16        99\n",
      "   macro avg       0.14      0.15      0.13        99\n",
      "weighted avg       0.18      0.16      0.16        99\n"
     ]
    }
   ],
   "source": [
    "# Train the QDA classifier\n",
    "qda_classifier_tri = QuadraticDiscriminantAnalysis()\n",
    "qda_classifier_tri.fit(X_norm, y_train)\n",
    "\n",
    "y_pred = qda_classifier_tri.predict(X_norm)\n",
    "accuracy = accuracy_score(y_train, y_pred)\n",
    "print(\"train Accuracy:\", accuracy)\n",
    "\n",
    "# Evaluate the classifier\n",
    "y_pred = qda_classifier_tri.predict(X_norm_test)\n",
    "accuracy = accuracy_score(y_test, y_pred)\n",
    "report = classification_report(y_test, y_pred)\n",
    "\n",
    "print(\"Accuracy:\", accuracy)\n",
    "print(\"Classification Report:\\n\", report)"
   ],
   "metadata": {
    "collapsed": false,
    "ExecuteTime": {
     "end_time": "2024-05-03T19:47:38.802104Z",
     "start_time": "2024-05-03T19:47:38.275571Z"
    }
   },
   "id": "1ed2d65b2880fd7f",
   "execution_count": 74
  },
  {
   "cell_type": "markdown",
   "source": [
    "6. Random Forest:"
   ],
   "metadata": {
    "collapsed": false
   },
   "id": "36c7e0b6a7eef043"
  },
  {
   "cell_type": "code",
   "outputs": [
    {
     "name": "stdout",
     "output_type": "stream",
     "text": [
      "train Accuracy: 1.0\n",
      "test Accuracy: 0.46464646464646464\n",
      "Classification Report:\n",
      "               precision    recall  f1-score   support\n",
      "\n",
      "           0       0.25      0.23      0.24        13\n",
      "           1       0.00      0.00      0.00         4\n",
      "           2       0.50      0.26      0.34        23\n",
      "           3       0.00      0.00      0.00         3\n",
      "           4       0.40      0.60      0.48        20\n",
      "           5       0.25      0.11      0.15         9\n",
      "           6       0.62      0.89      0.73        27\n",
      "\n",
      "    accuracy                           0.46        99\n",
      "   macro avg       0.29      0.30      0.28        99\n",
      "weighted avg       0.42      0.46      0.42        99\n"
     ]
    },
    {
     "name": "stderr",
     "output_type": "stream",
     "text": [
      "C:\\Users\\user\\AppData\\Local\\Programs\\Python\\Python310\\lib\\site-packages\\sklearn\\metrics\\_classification.py:1509: UndefinedMetricWarning: Precision is ill-defined and being set to 0.0 in labels with no predicted samples. Use `zero_division` parameter to control this behavior.\n",
      "  _warn_prf(average, modifier, f\"{metric.capitalize()} is\", len(result))\n",
      "C:\\Users\\user\\AppData\\Local\\Programs\\Python\\Python310\\lib\\site-packages\\sklearn\\metrics\\_classification.py:1509: UndefinedMetricWarning: Precision is ill-defined and being set to 0.0 in labels with no predicted samples. Use `zero_division` parameter to control this behavior.\n",
      "  _warn_prf(average, modifier, f\"{metric.capitalize()} is\", len(result))\n",
      "C:\\Users\\user\\AppData\\Local\\Programs\\Python\\Python310\\lib\\site-packages\\sklearn\\metrics\\_classification.py:1509: UndefinedMetricWarning: Precision is ill-defined and being set to 0.0 in labels with no predicted samples. Use `zero_division` parameter to control this behavior.\n",
      "  _warn_prf(average, modifier, f\"{metric.capitalize()} is\", len(result))\n"
     ]
    }
   ],
   "source": [
    "# Train the rf classifier\n",
    "rf_classifier_tri = RandomForestClassifier()\n",
    "rf_classifier_tri.fit(X_norm, y_train)\n",
    "\n",
    "y_pred = rf_classifier_tri.predict(X_norm)\n",
    "accuracy = accuracy_score(y_train, y_pred)\n",
    "print(\"train Accuracy:\", accuracy)\n",
    "\n",
    "# Evaluate the classifier\n",
    "y_pred = rf_classifier_tri.predict(X_norm_test)\n",
    "accuracy = accuracy_score(y_test, y_pred)\n",
    "report = classification_report(y_test, y_pred)\n",
    "\n",
    "print(\"test Accuracy:\", accuracy)\n",
    "print(\"Classification Report:\\n\", report)"
   ],
   "metadata": {
    "collapsed": false,
    "ExecuteTime": {
     "end_time": "2024-05-03T19:46:41.841381Z",
     "start_time": "2024-05-03T19:46:39.486548Z"
    }
   },
   "id": "c39bc116a09a67a",
   "execution_count": 73
  },
  {
   "cell_type": "markdown",
   "source": [
    "So based on the results:\n",
    "- some models\n",
    "- some other\n"
   ],
   "metadata": {
    "collapsed": false
   },
   "id": "5992dbcf55833ca5"
  },
  {
   "cell_type": "markdown",
   "source": [
    "Now we introduce our own Neural Network model to outperform others:\n",
    "\n",
    "### Neural Network:"
   ],
   "metadata": {
    "collapsed": false
   },
   "id": "3c15d2cfaa423a90"
  },
  {
   "cell_type": "code",
   "outputs": [
    {
     "name": "stdout",
     "output_type": "stream",
     "text": [
      "Epoch 1/50\n",
      "25/25 [==============================] - 2s 18ms/step - loss: 33.9487 - accuracy: 0.1677 - val_loss: 26.4141 - val_accuracy: 0.2135\n",
      "Epoch 2/50\n",
      "25/25 [==============================] - 0s 8ms/step - loss: 21.4074 - accuracy: 0.2421 - val_loss: 16.5722 - val_accuracy: 0.2472\n",
      "Epoch 3/50\n",
      "25/25 [==============================] - 0s 8ms/step - loss: 13.4015 - accuracy: 0.2774 - val_loss: 10.5501 - val_accuracy: 0.2697\n",
      "Epoch 4/50\n",
      "25/25 [==============================] - 0s 10ms/step - loss: 8.6720 - accuracy: 0.3140 - val_loss: 7.1438 - val_accuracy: 0.2921\n",
      "Epoch 5/50\n",
      "25/25 [==============================] - 0s 9ms/step - loss: 6.0677 - accuracy: 0.3846 - val_loss: 5.3182 - val_accuracy: 0.3708\n",
      "Epoch 6/50\n",
      "25/25 [==============================] - 0s 8ms/step - loss: 4.6766 - accuracy: 0.4023 - val_loss: 4.3799 - val_accuracy: 0.3820\n",
      "Epoch 7/50\n",
      "25/25 [==============================] - 0s 13ms/step - loss: 3.9537 - accuracy: 0.4439 - val_loss: 3.8558 - val_accuracy: 0.4494\n",
      "Epoch 8/50\n",
      "25/25 [==============================] - 0s 11ms/step - loss: 3.5187 - accuracy: 0.4401 - val_loss: 3.5805 - val_accuracy: 0.4719\n",
      "Epoch 9/50\n",
      "25/25 [==============================] - 0s 7ms/step - loss: 3.2581 - accuracy: 0.4918 - val_loss: 3.4078 - val_accuracy: 0.4494\n",
      "Epoch 10/50\n",
      "25/25 [==============================] - 0s 7ms/step - loss: 3.0505 - accuracy: 0.5347 - val_loss: 3.2885 - val_accuracy: 0.4270\n",
      "Epoch 11/50\n",
      "25/25 [==============================] - 0s 7ms/step - loss: 2.9182 - accuracy: 0.5725 - val_loss: 3.2641 - val_accuracy: 0.4270\n",
      "Epoch 12/50\n",
      "25/25 [==============================] - 0s 9ms/step - loss: 2.8666 - accuracy: 0.5372 - val_loss: 3.2368 - val_accuracy: 0.4270\n",
      "Epoch 13/50\n",
      "25/25 [==============================] - 0s 7ms/step - loss: 2.7787 - accuracy: 0.5864 - val_loss: 3.2066 - val_accuracy: 0.4045\n",
      "Epoch 14/50\n",
      "25/25 [==============================] - 0s 5ms/step - loss: 2.6414 - accuracy: 0.6066 - val_loss: 3.2174 - val_accuracy: 0.4045\n",
      "Epoch 15/50\n",
      "25/25 [==============================] - 0s 5ms/step - loss: 2.5380 - accuracy: 0.6456 - val_loss: 3.1951 - val_accuracy: 0.4157\n",
      "Epoch 16/50\n",
      "25/25 [==============================] - 0s 5ms/step - loss: 2.4675 - accuracy: 0.6620 - val_loss: 3.1314 - val_accuracy: 0.4494\n",
      "Epoch 17/50\n",
      "25/25 [==============================] - 0s 5ms/step - loss: 2.4512 - accuracy: 0.6444 - val_loss: 3.1141 - val_accuracy: 0.4045\n",
      "Epoch 18/50\n",
      "25/25 [==============================] - 0s 6ms/step - loss: 2.4048 - accuracy: 0.6620 - val_loss: 3.1567 - val_accuracy: 0.4157\n",
      "Epoch 19/50\n",
      "25/25 [==============================] - 0s 5ms/step - loss: 2.3481 - accuracy: 0.6860 - val_loss: 3.0348 - val_accuracy: 0.3820\n",
      "Epoch 20/50\n",
      "25/25 [==============================] - 0s 6ms/step - loss: 2.3257 - accuracy: 0.6835 - val_loss: 3.1733 - val_accuracy: 0.3371\n",
      "Epoch 21/50\n",
      "25/25 [==============================] - 0s 6ms/step - loss: 2.3011 - accuracy: 0.6936 - val_loss: 3.1148 - val_accuracy: 0.3933\n",
      "Epoch 22/50\n",
      "25/25 [==============================] - 0s 6ms/step - loss: 2.2794 - accuracy: 0.6898 - val_loss: 3.1683 - val_accuracy: 0.3820\n",
      "Epoch 23/50\n",
      "25/25 [==============================] - 0s 7ms/step - loss: 2.2216 - accuracy: 0.7087 - val_loss: 3.1609 - val_accuracy: 0.4045\n",
      "4/4 [==============================] - 0s 3ms/step - loss: 3.5472 - accuracy: 0.4141\n",
      "Test Accuracy: 41.41%\n"
     ]
    }
   ],
   "source": [
    "from tensorflow.keras.models import Sequential\n",
    "from tensorflow.keras.layers import Dense, Dropout\n",
    "from tensorflow.keras.regularizers import l2\n",
    "from tensorflow.keras.callbacks import EarlyStopping\n",
    "\n",
    "model = Sequential([\n",
    "    Dense(256, activation='relu', kernel_regularizer=l2(0.1), input_shape=(X_norm.shape[1],)),\n",
    "    Dropout(0.6),\n",
    "    Dense(128, activation='relu', kernel_regularizer=l2(0.01)),\n",
    "    Dropout(0.6),\n",
    "    Dense(64, activation='relu', kernel_regularizer=l2(0.01)),\n",
    "    Dense(7, activation='softmax')\n",
    "])\n",
    "\n",
    "model.compile(optimizer='adam', loss='sparse_categorical_crossentropy', metrics=['accuracy'])\n",
    "\n",
    "# Early stopping monitor\n",
    "early_stopping_monitor = EarlyStopping(\n",
    "    monitor='val_accuracy',\n",
    "    patience=15,\n",
    "    restore_best_weights=True\n",
    ")\n",
    "\n",
    "# Train the model with early stopping\n",
    "model.fit(X_norm, y_train, epochs=50, validation_split=0.1, callbacks=[early_stopping_monitor])\n",
    "\n",
    "# Evaluate on the test set\n",
    "test_loss, test_accuracy = model.evaluate(X_norm_test, y_test)\n",
    "print(f\"Test Accuracy: {test_accuracy * 100:.2f}%\")\n"
   ],
   "metadata": {
    "collapsed": false,
    "ExecuteTime": {
     "end_time": "2024-05-03T19:55:07.234539Z",
     "start_time": "2024-05-03T19:55:00.500525Z"
    }
   },
   "id": "1dc96e3da72c6a2",
   "execution_count": 79
  },
  {
   "cell_type": "code",
   "outputs": [],
   "source": [],
   "metadata": {
    "collapsed": false
   },
   "id": "409523a22bc847d4"
  }
 ],
 "metadata": {
  "kernelspec": {
   "display_name": "Python 3",
   "language": "python",
   "name": "python3"
  },
  "language_info": {
   "codemirror_mode": {
    "name": "ipython",
    "version": 2
   },
   "file_extension": ".py",
   "mimetype": "text/x-python",
   "name": "python",
   "nbconvert_exporter": "python",
   "pygments_lexer": "ipython2",
   "version": "2.7.6"
  }
 },
 "nbformat": 4,
 "nbformat_minor": 5
}
