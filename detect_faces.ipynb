{
 "cells": [
  {
   "cell_type": "markdown",
   "id": "2ed0db9e470098b5",
   "metadata": {
    "collapsed": false
   },
   "source": [
    "## 1 - Importing related libraries and functions\n",
    "In this section we import necessary libraries and functions:\n"
   ]
  },
  {
   "cell_type": "code",
   "execution_count": 140,
   "id": "6bf927ce94bb3c87",
   "metadata": {
    "ExecuteTime": {
     "end_time": "2024-05-06T18:59:59.322073Z",
     "start_time": "2024-05-06T18:59:59.282985Z"
    },
    "collapsed": false
   },
   "outputs": [],
   "source": [
    "import os\n",
    "import cv2\n",
    "import numpy as np\n",
    "import pandas as pd\n",
    "from sklearn.model_selection import train_test_split\n",
    "\n",
    "from sklearn.neighbors import KNeighborsClassifier\n",
    "from sklearn.naive_bayes import GaussianNB\n",
    "from sklearn.svm import SVC\n",
    "from sklearn.tree import DecisionTreeClassifier\n",
    "from sklearn.discriminant_analysis import QuadraticDiscriminantAnalysis\n",
    "from sklearn.ensemble import RandomForestClassifier\n",
    "from sklearn.metrics import classification_report, accuracy_score\n",
    "from sklearn.preprocessing import StandardScaler\n",
    "\n",
    "\n",
    "from delaunay import extract_features"
   ]
  },
  {
   "cell_type": "markdown",
   "id": "d7f8a10d40bc6b54",
   "metadata": {
    "collapsed": false
   },
   "source": [
    "## 2 - Load and preprocess the dataset\n",
    "In this section we first import our designated dataset which is `CK+` dataset, read ,and load it in an array\n"
   ]
  },
  {
   "cell_type": "code",
   "execution_count": 141,
   "id": "caaaa839abaf4eed",
   "metadata": {
    "ExecuteTime": {
     "end_time": "2024-05-06T18:48:44.549813Z",
     "start_time": "2024-05-06T18:48:38.430879Z"
    },
    "collapsed": false
   },
   "outputs": [],
   "source": [
    "dataset_dir = \"dataset\"\n",
    "\n",
    "label_map = {\n",
    "    \"anger\": 0,\n",
    "    \"contempt\": 1,\n",
    "    \"disgust\": 2,\n",
    "    \"fear\": 3,\n",
    "    \"happy\": 4,\n",
    "    \"sadness\": 5,\n",
    "    \"surprise\": 6\n",
    "}\n",
    "# Load and preprocess the dataset\n",
    "def load_ckplus_dataset(dataset_dir):\n",
    "    images = []\n",
    "    labels = []\n",
    "    for subdir in os.listdir(dataset_dir):\n",
    "        if subdir in label_map:  # Check if directory name is a valid label\n",
    "            label = label_map[subdir]  # Get integer label from the mapping\n",
    "            for filename in os.listdir(os.path.join(dataset_dir, subdir)):\n",
    "                if filename.endswith(\".png\"):  # Load only image files (assuming images are in PNG format)\n",
    "                    img_path = os.path.join(dataset_dir, subdir, filename)\n",
    "                    img = cv2.imread(img_path, cv2.IMREAD_GRAYSCALE)  # Convert to grayscale\n",
    "                    img = cv2.resize(img, (100, 100))  # Resize image\n",
    "                    images.append(img)\n",
    "                    labels.append(label)\n",
    "\n",
    "    return images, labels\n",
    "\n",
    "images, labels = load_ckplus_dataset(dataset_dir)"
   ]
  },
  {
   "cell_type": "markdown",
   "id": "6df24c9b1ffafea0",
   "metadata": {
    "collapsed": false
   },
   "source": [
    "## 3 - Compare the results from raw image classification and delaunay triangulation method\n",
    "### 3.1 - Train the raw dataset\n",
    "As we know the dataset is in grayscale, we need to get the brightness level of each pixel and train our models on each image   \n",
    "then we will report the results:\n",
    "> Note: We have used standard scalar normalization that leads to better results\n"
   ]
  },
  {
   "cell_type": "markdown",
   "id": "6a4f0c67ac8a58a",
   "metadata": {
    "collapsed": false
   },
   "source": [
    "#### Pre-Process data:"
   ]
  },
  {
   "cell_type": "code",
   "execution_count": 142,
   "id": "d582dba57742cc81",
   "metadata": {
    "ExecuteTime": {
     "end_time": "2024-05-06T18:48:49.563768Z",
     "start_time": "2024-05-06T18:48:49.344075Z"
    },
    "collapsed": false
   },
   "outputs": [],
   "source": [
    "# Initialize the scalar\n",
    "scalar = StandardScaler()\n",
    "\n",
    "# Split dataset into training and testing sets\n",
    "X_train, X_test, y_train, y_test = train_test_split(images, labels, test_size=0.2, random_state=42)\n",
    "\n",
    "X_train = np.array([img.flatten() for img in X_train])\n",
    "X_test = np.array([img.flatten() for img in X_test])\n",
    "\n",
    "X_norm = scalar.fit_transform(X_train)\n",
    "X_norm_test = scalar.fit_transform(X_test)\n",
    "\n",
    "\n"
   ]
  },
  {
   "cell_type": "markdown",
   "id": "8b3931d4919e155d",
   "metadata": {
    "collapsed": false
   },
   "source": [
    "#### Training phase: \n",
    "1. SVM Model:"
   ]
  },
  {
   "cell_type": "code",
   "execution_count": 143,
   "id": "4dfe9b6c8e2a0d35",
   "metadata": {
    "ExecuteTime": {
     "end_time": "2024-05-06T18:48:55.351601Z",
     "start_time": "2024-05-06T18:48:49.967267Z"
    },
    "collapsed": false
   },
   "outputs": [
    {
     "name": "stdout",
     "output_type": "stream",
     "text": [
      "Accuracy: 0.868020304568528\n",
      "Classification Report:\n",
      "               precision    recall  f1-score   support\n",
      "\n",
      "           0       0.74      0.74      0.74        27\n",
      "           1       0.55      0.67      0.60         9\n",
      "           2       0.85      0.91      0.88        32\n",
      "           3       0.94      0.70      0.80        23\n",
      "           4       0.89      1.00      0.94        34\n",
      "           5       0.78      0.70      0.74        20\n",
      "           6       1.00      1.00      1.00        52\n",
      "\n",
      "    accuracy                           0.87       197\n",
      "   macro avg       0.82      0.82      0.81       197\n",
      "weighted avg       0.87      0.87      0.87       197\n",
      "\n"
     ]
    }
   ],
   "source": [
    "# Train the SVM classifier\n",
    "svm_classifier = SVC(kernel='rbf', C=1.0, gamma='scale')\n",
    "svm_classifier.fit(X_norm, y_train)\n",
    "\n",
    "# Evaluate the classifier\n",
    "y_pred = svm_classifier.predict(X_norm_test)\n",
    "accuracy = accuracy_score(y_test, y_pred)\n",
    "report = classification_report(y_test, y_pred)\n",
    "\n",
    "print(\"Accuracy:\", accuracy)\n",
    "print(\"Classification Report:\\n\", report)"
   ]
  },
  {
   "cell_type": "markdown",
   "id": "e947e2952cf4c1e6",
   "metadata": {
    "collapsed": false
   },
   "source": [
    "2. K-Nearest-Neighbors model:"
   ]
  },
  {
   "cell_type": "code",
   "execution_count": 144,
   "id": "42b5a9971627fd34",
   "metadata": {
    "ExecuteTime": {
     "end_time": "2024-05-06T18:48:55.679131Z",
     "start_time": "2024-05-06T18:48:55.353600Z"
    },
    "collapsed": false
   },
   "outputs": [
    {
     "name": "stdout",
     "output_type": "stream",
     "text": [
      "Accuracy: 0.36548223350253806\n",
      "Classification Report:\n",
      "               precision    recall  f1-score   support\n",
      "\n",
      "           0       0.26      0.44      0.32        27\n",
      "           1       0.46      0.67      0.55         9\n",
      "           2       0.20      0.28      0.23        32\n",
      "           3       0.40      0.17      0.24        23\n",
      "           4       0.31      0.32      0.31        34\n",
      "           5       0.17      0.10      0.12        20\n",
      "           6       0.82      0.54      0.65        52\n",
      "\n",
      "    accuracy                           0.37       197\n",
      "   macro avg       0.37      0.36      0.35       197\n",
      "weighted avg       0.42      0.37      0.37       197\n",
      "\n"
     ]
    }
   ],
   "source": [
    "# Train the KNN classifier\n",
    "knn_classifier = KNeighborsClassifier(n_neighbors=5)\n",
    "knn_classifier.fit(X_norm, y_train)\n",
    "\n",
    "# Evaluate the classifier\n",
    "y_pred = knn_classifier.predict(X_norm_test)\n",
    "accuracy = accuracy_score(y_test, y_pred)\n",
    "report = classification_report(y_test, y_pred)\n",
    "\n",
    "print(\"Accuracy:\", accuracy)\n",
    "print(\"Classification Report:\\n\", report)"
   ]
  },
  {
   "cell_type": "markdown",
   "id": "3b5b09687d5923a2",
   "metadata": {
    "collapsed": false
   },
   "source": [
    "3. Naive Bayesian Classification:"
   ]
  },
  {
   "cell_type": "code",
   "execution_count": 145,
   "id": "a1e9d20b57f6634a",
   "metadata": {
    "ExecuteTime": {
     "end_time": "2024-05-06T18:48:55.975145Z",
     "start_time": "2024-05-06T18:48:55.681118Z"
    },
    "collapsed": false
   },
   "outputs": [
    {
     "name": "stdout",
     "output_type": "stream",
     "text": [
      "Accuracy: 0.49238578680203043\n",
      "Classification Report:\n",
      "               precision    recall  f1-score   support\n",
      "\n",
      "           0       0.24      0.30      0.27        27\n",
      "           1       0.32      0.67      0.43         9\n",
      "           2       0.45      0.44      0.44        32\n",
      "           3       0.22      0.09      0.12        23\n",
      "           4       0.46      0.68      0.55        34\n",
      "           5       0.31      0.20      0.24        20\n",
      "           6       0.95      0.77      0.85        52\n",
      "\n",
      "    accuracy                           0.49       197\n",
      "   macro avg       0.42      0.45      0.42       197\n",
      "weighted avg       0.51      0.49      0.49       197\n",
      "\n"
     ]
    }
   ],
   "source": [
    "# Train the GNB classifier\n",
    "gnb_classifier = GaussianNB()\n",
    "gnb_classifier.fit(X_norm, y_train)\n",
    "\n",
    "# Evaluate the classifier\n",
    "y_pred = gnb_classifier.predict(X_norm_test)\n",
    "accuracy = accuracy_score(y_test, y_pred)\n",
    "report = classification_report(y_test, y_pred)\n",
    "\n",
    "print(\"Accuracy:\", accuracy)\n",
    "print(\"Classification Report:\\n\", report)"
   ]
  },
  {
   "cell_type": "markdown",
   "id": "e1b5bc85a950d9e6",
   "metadata": {
    "collapsed": false
   },
   "source": [
    "4. Decision Tree:"
   ]
  },
  {
   "cell_type": "code",
   "execution_count": 146,
   "id": "e119eec065e9fea3",
   "metadata": {
    "ExecuteTime": {
     "end_time": "2024-05-06T18:49:00.331605Z",
     "start_time": "2024-05-06T18:48:55.978083Z"
    },
    "collapsed": false
   },
   "outputs": [
    {
     "name": "stdout",
     "output_type": "stream",
     "text": [
      "Accuracy: 0.8121827411167513\n",
      "Classification Report:\n",
      "               precision    recall  f1-score   support\n",
      "\n",
      "           0       0.69      0.81      0.75        27\n",
      "           1       0.50      0.44      0.47         9\n",
      "           2       0.81      0.81      0.81        32\n",
      "           3       0.88      0.65      0.75        23\n",
      "           4       0.78      0.94      0.85        34\n",
      "           5       0.93      0.65      0.76        20\n",
      "           6       0.91      0.92      0.91        52\n",
      "\n",
      "    accuracy                           0.81       197\n",
      "   macro avg       0.79      0.75      0.76       197\n",
      "weighted avg       0.82      0.81      0.81       197\n",
      "\n"
     ]
    }
   ],
   "source": [
    "# Train the Tree classifier\n",
    "tree_classifier = DecisionTreeClassifier() \n",
    "tree_classifier.fit(X_norm, y_train)\n",
    "\n",
    "# Evaluate the classifier\n",
    "y_pred = tree_classifier.predict(X_norm_test)\n",
    "accuracy = accuracy_score(y_test, y_pred)\n",
    "report = classification_report(y_test, y_pred)\n",
    "\n",
    "print(\"Accuracy:\", accuracy)\n",
    "print(\"Classification Report:\\n\", report)"
   ]
  },
  {
   "cell_type": "markdown",
   "id": "3c6ce9783cfaba93",
   "metadata": {
    "collapsed": false
   },
   "source": [
    "5. Quadratic Discriminant Analysis:"
   ]
  },
  {
   "cell_type": "code",
   "execution_count": 147,
   "id": "3e78e64d607426aa",
   "metadata": {
    "ExecuteTime": {
     "end_time": "2024-05-06T18:49:01.423241Z",
     "start_time": "2024-05-06T18:49:00.333958Z"
    },
    "collapsed": false
   },
   "outputs": [
    {
     "name": "stderr",
     "output_type": "stream",
     "text": [
      "/Users/alihamedi/mambaforge/envs/main-env/lib/python3.12/site-packages/sklearn/discriminant_analysis.py:935: UserWarning: Variables are collinear\n",
      "  warnings.warn(\"Variables are collinear\")\n"
     ]
    },
    {
     "name": "stdout",
     "output_type": "stream",
     "text": [
      "Accuracy: 0.467005076142132\n",
      "Classification Report:\n",
      "               precision    recall  f1-score   support\n",
      "\n",
      "           0       0.43      0.33      0.38        27\n",
      "           1       0.50      0.33      0.40         9\n",
      "           2       0.50      0.53      0.52        32\n",
      "           3       0.38      0.48      0.42        23\n",
      "           4       0.45      0.50      0.47        34\n",
      "           5       0.27      0.50      0.35        20\n",
      "           6       0.78      0.48      0.60        52\n",
      "\n",
      "    accuracy                           0.47       197\n",
      "   macro avg       0.47      0.45      0.45       197\n",
      "weighted avg       0.52      0.47      0.48       197\n",
      "\n"
     ]
    }
   ],
   "source": [
    "# Train the QDA classifier\n",
    "qda_classifier = QuadraticDiscriminantAnalysis()\n",
    "qda_classifier.fit(X_norm, y_train)\n",
    "\n",
    "# Evaluate the classifier\n",
    "y_pred = qda_classifier.predict(X_norm_test)\n",
    "accuracy = accuracy_score(y_test, y_pred)\n",
    "report = classification_report(y_test, y_pred)\n",
    "\n",
    "print(\"Accuracy:\", accuracy)\n",
    "print(\"Classification Report:\\n\", report)"
   ]
  },
  {
   "cell_type": "markdown",
   "id": "e1c6db645e02de5b",
   "metadata": {
    "collapsed": false
   },
   "source": [
    "6. Random Forest:"
   ]
  },
  {
   "cell_type": "code",
   "execution_count": 148,
   "id": "a6f79af31e4ffb71",
   "metadata": {
    "ExecuteTime": {
     "end_time": "2024-05-06T18:49:04.422047Z",
     "start_time": "2024-05-06T18:49:01.425240Z"
    },
    "collapsed": false
   },
   "outputs": [
    {
     "name": "stdout",
     "output_type": "stream",
     "text": [
      "Accuracy: 0.9593908629441624\n",
      "Classification Report:\n",
      "               precision    recall  f1-score   support\n",
      "\n",
      "           0       0.96      0.89      0.92        27\n",
      "           1       1.00      0.78      0.88         9\n",
      "           2       0.91      1.00      0.96        32\n",
      "           3       1.00      0.87      0.93        23\n",
      "           4       0.94      1.00      0.97        34\n",
      "           5       0.91      1.00      0.95        20\n",
      "           6       1.00      1.00      1.00        52\n",
      "\n",
      "    accuracy                           0.96       197\n",
      "   macro avg       0.96      0.93      0.94       197\n",
      "weighted avg       0.96      0.96      0.96       197\n",
      "\n"
     ]
    }
   ],
   "source": [
    "# Train the rf classifier\n",
    "rf_classifier = RandomForestClassifier()\n",
    "rf_classifier.fit(X_norm, y_train)\n",
    "\n",
    "# Evaluate the classifier\n",
    "y_pred = rf_classifier.predict(X_norm_test)\n",
    "accuracy = accuracy_score(y_test, y_pred)\n",
    "report = classification_report(y_test, y_pred)\n",
    "\n",
    "print(\"Accuracy:\", accuracy)\n",
    "print(\"Classification Report:\\n\", report)"
   ]
  },
  {
   "cell_type": "markdown",
   "id": "a30d1d3e1c219011",
   "metadata": {
    "collapsed": false
   },
   "source": [
    "## 3.2 - Train the on dataset with triangulation\n",
    "As implemented in the corresponding class, we need to detect landmarks of each image and use the detected points to train our model and give the results: \n",
    "> Note: We have used standard scalar normalization that leads to better results\n"
   ]
  },
  {
   "cell_type": "markdown",
   "id": "6bfffca233c4ee9b",
   "metadata": {
    "collapsed": false
   },
   "source": [
    "We first build a function to process landmarks for rach image and save it to save time:"
   ]
  },
  {
   "cell_type": "code",
   "execution_count": 149,
   "id": "ba15b540bdf56250",
   "metadata": {
    "ExecuteTime": {
     "end_time": "2024-05-06T19:18:05.945676Z",
     "start_time": "2024-05-06T19:00:44.729964Z"
    },
    "collapsed": false
   },
   "outputs": [],
   "source": [
    "# def extract_landmark_features(images):\n",
    "#     landmarks_list = []\n",
    "#     feature_lengths = []\n",
    "#     landmarks_vector = []\n",
    "#     maxX = len(images)\n",
    "#     x = 0\n",
    "#     for image in images:\n",
    "#         features, lands  = extract_features(image)\n",
    "#         x +=1 \n",
    "#         print(x/maxX)\n",
    "#         landmarks_list.append(features.tolist())\n",
    "#         landmarks_vector.append(np.array(lands).flatten())\n",
    "#         feature_lengths.append(len(features))\n",
    "\n",
    "#     max_features = max(feature_lengths)\n",
    "\n",
    "    \n",
    "#     for i in range(len(images)):\n",
    "#         current_length = len(landmarks_list[i])\n",
    "#         if current_length < max_features:\n",
    "#             padding = [0] * (max_features - current_length)\n",
    "#             landmarks_list[i].extend(padding)\n",
    "\n",
    "#     head = np.arange(max_features)\n",
    "#     data_combined = pd.DataFrame(landmarks_list, columns=head)\n",
    "#     data_combined.to_csv('features.csv', index=False)\n",
    "#     data_landmarks = pd.DataFrame(landmarks_vector)\n",
    "#     data_landmarks.to_csv('landmarks.csv',index=False)\n",
    "    \n",
    "#     return np.array(landmarks_list)\n",
    "\n",
    "# landmark_features = extract_landmark_features()"
   ]
  },
  {
   "cell_type": "markdown",
   "id": "c6d1d88540b1233b",
   "metadata": {
    "collapsed": false
   },
   "source": [
    "### Pre-Process data:\n",
    "we use previously stored data for training:"
   ]
  },
  {
   "cell_type": "code",
   "execution_count": 150,
   "id": "5d0463fc",
   "metadata": {},
   "outputs": [],
   "source": [
    "df = pd.read_csv('landmarks.csv')\n",
    "# mask = [0, 2, 4, 6, 8, 10, 12, 14, 16, 18, 20, 21, 22, 23, 25, 27, 29, 30, 31, 35, 36, 39, 42, 45, 48, 51, 54, 57]\n",
    "# landmarks = [landmarks[i] for i in mask]"
   ]
  },
  {
   "cell_type": "code",
   "execution_count": 179,
   "id": "3de9ca7e8dbf9f61",
   "metadata": {
    "ExecuteTime": {
     "end_time": "2024-05-06T19:28:55.536308Z",
     "start_time": "2024-05-06T19:28:54.755906Z"
    },
    "collapsed": false
   },
   "outputs": [
    {
     "data": {
      "text/plain": [
       "array([[12, 44, 14, ..., 79, 49, 79],\n",
       "       [ 9, 43,  9, ..., 88, 44, 88],\n",
       "       [ 6, 42,  6, ..., 79, 45, 78],\n",
       "       ...,\n",
       "       [ 6, 39,  7, ..., 76, 47, 75],\n",
       "       [ 9, 47, 10, ..., 91, 46, 90],\n",
       "       [ 7, 46,  8, ..., 83, 43, 83]])"
      ]
     },
     "execution_count": 179,
     "metadata": {},
     "output_type": "execute_result"
    }
   ],
   "source": [
    "landmark_features = df.values\n",
    "\n",
    "# Initialize the scalar\n",
    "scalar = StandardScaler()\n",
    "\n",
    "# Split dataset into training and testing sets\n",
    "X_train, X_test, y_train, y_test = train_test_split(landmark_features, labels, test_size=0.1, random_state=42)\n",
    "\n",
    "\n",
    "X_norm = scalar.fit_transform(X_train)\n",
    "X_norm_test = scalar.transform(X_test)\n",
    "\n",
    "X_norm "
   ]
  },
  {
   "cell_type": "markdown",
   "id": "bace7c927f986957",
   "metadata": {
    "collapsed": false
   },
   "source": [
    "#### Training phase: \n",
    "1. SVM Model:"
   ]
  },
  {
   "cell_type": "code",
   "execution_count": 183,
   "id": "4b8e9315c5db66a8",
   "metadata": {
    "ExecuteTime": {
     "end_time": "2024-05-06T19:29:01.084236Z",
     "start_time": "2024-05-06T19:29:00.874354Z"
    },
    "collapsed": false
   },
   "outputs": [
    {
     "name": "stdout",
     "output_type": "stream",
     "text": [
      "Acccccc  0.6417233560090703\n",
      "Accuracy: 0.5353535353535354\n",
      "Classification Report:\n",
      "               precision    recall  f1-score   support\n",
      "\n",
      "           0       0.00      0.00      0.00        15\n",
      "           1       0.00      0.00      0.00         5\n",
      "           2       0.40      1.00      0.57        18\n",
      "           3       0.00      0.00      0.00        13\n",
      "           4       0.64      0.94      0.76        17\n",
      "           5       0.00      0.00      0.00        12\n",
      "           6       0.83      1.00      0.90        19\n",
      "\n",
      "    accuracy                           0.54        99\n",
      "   macro avg       0.27      0.42      0.32        99\n",
      "weighted avg       0.34      0.54      0.41        99\n",
      "\n"
     ]
    },
    {
     "name": "stderr",
     "output_type": "stream",
     "text": [
      "/Users/alihamedi/mambaforge/envs/main-env/lib/python3.12/site-packages/sklearn/metrics/_classification.py:1509: UndefinedMetricWarning: Precision is ill-defined and being set to 0.0 in labels with no predicted samples. Use `zero_division` parameter to control this behavior.\n",
      "  _warn_prf(average, modifier, f\"{metric.capitalize()} is\", len(result))\n",
      "/Users/alihamedi/mambaforge/envs/main-env/lib/python3.12/site-packages/sklearn/metrics/_classification.py:1509: UndefinedMetricWarning: Precision is ill-defined and being set to 0.0 in labels with no predicted samples. Use `zero_division` parameter to control this behavior.\n",
      "  _warn_prf(average, modifier, f\"{metric.capitalize()} is\", len(result))\n",
      "/Users/alihamedi/mambaforge/envs/main-env/lib/python3.12/site-packages/sklearn/metrics/_classification.py:1509: UndefinedMetricWarning: Precision is ill-defined and being set to 0.0 in labels with no predicted samples. Use `zero_division` parameter to control this behavior.\n",
      "  _warn_prf(average, modifier, f\"{metric.capitalize()} is\", len(result))\n"
     ]
    }
   ],
   "source": [
    "# Train the SVM classifier\n",
    "svm_classifier_tri = SVC(kernel='rbf', C=1.0, gamma='scale')\n",
    "svm_classifier_tri.fit(X_norm, y_train)\n",
    "\n",
    "# Evaluate the classifier\n",
    "y_pred = svm_classifier_tri.predict(X_norm_test)\n",
    "accuracy = accuracy_score(y_test, y_pred)\n",
    "report = classification_report(y_test, y_pred)\n",
    "\n",
    "\n",
    "y_train2 = svm_classifier_tri.predict(X_norm)\n",
    "print(\"Acccccc \", accuracy_score(y_train,y_train2))\n",
    "print(\"Accuracy:\", accuracy)\n",
    "print(\"Classification Report:\\n\", report)"
   ]
  },
  {
   "cell_type": "markdown",
   "id": "aeb9b26f9deb925d",
   "metadata": {
    "collapsed": false
   },
   "source": [
    "2. K-Nearest-Neighbors model:"
   ]
  },
  {
   "cell_type": "code",
   "execution_count": 164,
   "id": "e028edc6f7af989e",
   "metadata": {
    "ExecuteTime": {
     "end_time": "2024-05-06T19:29:11.087776Z",
     "start_time": "2024-05-06T19:29:11.000050Z"
    },
    "collapsed": false
   },
   "outputs": [
    {
     "name": "stdout",
     "output_type": "stream",
     "text": [
      "Accuracy: 0.6666666666666666\n",
      "Classification Report:\n",
      "               precision    recall  f1-score   support\n",
      "\n",
      "           0       0.50      0.60      0.55        15\n",
      "           1       0.60      0.60      0.60         5\n",
      "           2       0.53      0.56      0.54        18\n",
      "           3       0.78      0.54      0.64        13\n",
      "           4       0.75      0.88      0.81        17\n",
      "           5       0.50      0.33      0.40        12\n",
      "           6       0.90      0.95      0.92        19\n",
      "\n",
      "    accuracy                           0.67        99\n",
      "   macro avg       0.65      0.64      0.64        99\n",
      "weighted avg       0.67      0.67      0.66        99\n",
      "\n"
     ]
    }
   ],
   "source": [
    "# Train the KNN classifier\n",
    "knn_classifier_tri = KNeighborsClassifier(n_neighbors=5)\n",
    "knn_classifier_tri.fit(X_norm, y_train)\n",
    "\n",
    "# Evaluate the classifier\n",
    "y_pred = knn_classifier_tri.predict(X_norm_test)\n",
    "accuracy = accuracy_score(y_test, y_pred)\n",
    "report = classification_report(y_test, y_pred)\n",
    "\n",
    "print(\"Accuracy:\", accuracy)\n",
    "print(\"Classification Report:\\n\", report)"
   ]
  },
  {
   "cell_type": "markdown",
   "id": "6fd486766b641c7e",
   "metadata": {
    "collapsed": false
   },
   "source": [
    "3. Naive Bayesian Classification:"
   ]
  },
  {
   "cell_type": "code",
   "execution_count": 154,
   "id": "211b335383b8b01d",
   "metadata": {
    "ExecuteTime": {
     "end_time": "2024-05-06T19:29:14.934830Z",
     "start_time": "2024-05-06T19:29:14.895831Z"
    },
    "collapsed": false
   },
   "outputs": [
    {
     "name": "stdout",
     "output_type": "stream",
     "text": [
      "Accuracy: 0.7474747474747475\n",
      "Classification Report:\n",
      "               precision    recall  f1-score   support\n",
      "\n",
      "           0       0.73      0.53      0.62        15\n",
      "           1       0.36      0.80      0.50         5\n",
      "           2       0.64      0.89      0.74        18\n",
      "           3       0.73      0.62      0.67        13\n",
      "           4       0.88      0.82      0.85        17\n",
      "           5       0.86      0.50      0.63        12\n",
      "           6       1.00      0.95      0.97        19\n",
      "\n",
      "    accuracy                           0.75        99\n",
      "   macro avg       0.74      0.73      0.71        99\n",
      "weighted avg       0.79      0.75      0.75        99\n",
      "\n"
     ]
    }
   ],
   "source": [
    "# Train the GNB classifier\n",
    "gnb_classifier_tri = GaussianNB()\n",
    "gnb_classifier_tri.fit(X_norm, y_train)\n",
    "\n",
    "# Evaluate the classifier\n",
    "y_pred = gnb_classifier_tri.predict(X_norm_test)\n",
    "accuracy = accuracy_score(y_test, y_pred)\n",
    "report = classification_report(y_test, y_pred)\n",
    "\n",
    "print(\"Accuracy:\", accuracy)\n",
    "print(\"Classification Report:\\n\", report)"
   ]
  },
  {
   "cell_type": "markdown",
   "id": "efbb9c36ff5c606f",
   "metadata": {
    "collapsed": false
   },
   "source": [
    "4. Decision Tree:"
   ]
  },
  {
   "cell_type": "code",
   "execution_count": 155,
   "id": "61616999675a29aa",
   "metadata": {
    "ExecuteTime": {
     "end_time": "2024-05-06T19:29:18.400840Z",
     "start_time": "2024-05-06T19:29:18.325510Z"
    },
    "collapsed": false
   },
   "outputs": [
    {
     "name": "stdout",
     "output_type": "stream",
     "text": [
      "Accuracy: 0.8181818181818182\n",
      "Classification Report:\n",
      "               precision    recall  f1-score   support\n",
      "\n",
      "           0       0.75      0.60      0.67        15\n",
      "           1       0.50      0.80      0.62         5\n",
      "           2       0.86      1.00      0.92        18\n",
      "           3       1.00      0.77      0.87        13\n",
      "           4       0.93      0.82      0.88        17\n",
      "           5       0.64      0.58      0.61        12\n",
      "           6       0.86      1.00      0.93        19\n",
      "\n",
      "    accuracy                           0.82        99\n",
      "   macro avg       0.79      0.80      0.78        99\n",
      "weighted avg       0.83      0.82      0.82        99\n",
      "\n"
     ]
    }
   ],
   "source": [
    "# Train the Tree classifier\n",
    "tree_classifier_tri = DecisionTreeClassifier() \n",
    "tree_classifier_tri.fit(X_norm, y_train)\n",
    "\n",
    "# Evaluate the classifier\n",
    "y_pred = tree_classifier_tri.predict(X_norm_test)\n",
    "accuracy = accuracy_score(y_test, y_pred)\n",
    "report = classification_report(y_test, y_pred)\n",
    "\n",
    "print(\"Accuracy:\", accuracy)\n",
    "print(\"Classification Report:\\n\", report)"
   ]
  },
  {
   "cell_type": "markdown",
   "id": "7662ec91bc9d82df",
   "metadata": {
    "collapsed": false
   },
   "source": [
    "5. Quadratic Discriminant Analysis:"
   ]
  },
  {
   "cell_type": "code",
   "execution_count": 160,
   "id": "1ed2d65b2880fd7f",
   "metadata": {
    "ExecuteTime": {
     "end_time": "2024-05-06T19:29:21.239866Z",
     "start_time": "2024-05-06T19:29:21.023941Z"
    },
    "collapsed": false
   },
   "outputs": [
    {
     "name": "stdout",
     "output_type": "stream",
     "text": [
      "train Accuracy: 0.9943310657596371\n",
      "Accuracy: 0.3434343434343434\n",
      "Classification Report:\n",
      "               precision    recall  f1-score   support\n",
      "\n",
      "           0       0.00      0.00      0.00        15\n",
      "           1       0.00      0.00      0.00         5\n",
      "           2       1.00      0.06      0.11        18\n",
      "           3       0.00      0.00      0.00        13\n",
      "           4       0.78      0.82      0.80        17\n",
      "           5       0.00      0.00      0.00        12\n",
      "           6       0.24      1.00      0.38        19\n",
      "\n",
      "    accuracy                           0.34        99\n",
      "   macro avg       0.29      0.27      0.18        99\n",
      "weighted avg       0.36      0.34      0.23        99\n",
      "\n"
     ]
    },
    {
     "name": "stderr",
     "output_type": "stream",
     "text": [
      "/Users/alihamedi/mambaforge/envs/main-env/lib/python3.12/site-packages/sklearn/discriminant_analysis.py:935: UserWarning: Variables are collinear\n",
      "  warnings.warn(\"Variables are collinear\")\n",
      "/Users/alihamedi/mambaforge/envs/main-env/lib/python3.12/site-packages/sklearn/metrics/_classification.py:1509: UndefinedMetricWarning: Precision is ill-defined and being set to 0.0 in labels with no predicted samples. Use `zero_division` parameter to control this behavior.\n",
      "  _warn_prf(average, modifier, f\"{metric.capitalize()} is\", len(result))\n",
      "/Users/alihamedi/mambaforge/envs/main-env/lib/python3.12/site-packages/sklearn/metrics/_classification.py:1509: UndefinedMetricWarning: Precision is ill-defined and being set to 0.0 in labels with no predicted samples. Use `zero_division` parameter to control this behavior.\n",
      "  _warn_prf(average, modifier, f\"{metric.capitalize()} is\", len(result))\n",
      "/Users/alihamedi/mambaforge/envs/main-env/lib/python3.12/site-packages/sklearn/metrics/_classification.py:1509: UndefinedMetricWarning: Precision is ill-defined and being set to 0.0 in labels with no predicted samples. Use `zero_division` parameter to control this behavior.\n",
      "  _warn_prf(average, modifier, f\"{metric.capitalize()} is\", len(result))\n"
     ]
    }
   ],
   "source": [
    "# Train the QDA classifier\n",
    "qda_classifier_tri = QuadraticDiscriminantAnalysis(reg_param=sklearn.metrics)\n",
    "qda_classifier_tri.fit(X_norm, y_train)\n",
    "\n",
    "y_pred = qda_classifier_tri.predict(X_norm)\n",
    "accuracy = accuracy_score(y_train, y_pred)\n",
    "print(\"train Accuracy:\", accuracy)\n",
    "\n",
    "# Evaluate the classifier\n",
    "y_pred = qda_classifier_tri.predict(X_norm_test)\n",
    "accuracy = accuracy_score(y_test, y_pred)\n",
    "report = classification_report(y_test, y_pred)\n",
    "\n",
    "print(\"Accuracy:\", accuracy)\n",
    "print(\"Classification Report:\\n\", report)"
   ]
  },
  {
   "cell_type": "markdown",
   "id": "36c7e0b6a7eef043",
   "metadata": {
    "collapsed": false
   },
   "source": [
    "6. Random Forest:"
   ]
  },
  {
   "cell_type": "code",
   "execution_count": 157,
   "id": "c39bc116a09a67a",
   "metadata": {
    "ExecuteTime": {
     "end_time": "2024-05-06T19:29:31.584914Z",
     "start_time": "2024-05-06T19:29:31.022924Z"
    },
    "collapsed": false
   },
   "outputs": [
    {
     "name": "stdout",
     "output_type": "stream",
     "text": [
      "train Accuracy: 1.0\n",
      "test Accuracy: 0.9494949494949495\n",
      "Classification Report:\n",
      "               precision    recall  f1-score   support\n",
      "\n",
      "           0       1.00      0.73      0.85        15\n",
      "           1       1.00      0.80      0.89         5\n",
      "           2       0.86      1.00      0.92        18\n",
      "           3       1.00      1.00      1.00        13\n",
      "           4       1.00      1.00      1.00        17\n",
      "           5       0.86      1.00      0.92        12\n",
      "           6       1.00      1.00      1.00        19\n",
      "\n",
      "    accuracy                           0.95        99\n",
      "   macro avg       0.96      0.93      0.94        99\n",
      "weighted avg       0.96      0.95      0.95        99\n",
      "\n"
     ]
    }
   ],
   "source": [
    "# Train the rf classifier\n",
    "rf_classifier_tri = RandomForestClassifier()\n",
    "rf_classifier_tri.fit(X_norm, y_train)\n",
    "\n",
    "y_pred = rf_classifier_tri.predict(X_norm)\n",
    "accuracy = accuracy_score(y_train, y_pred)\n",
    "print(\"train Accuracy:\", accuracy)\n",
    "\n",
    "# Evaluate the classifier\n",
    "y_pred = rf_classifier_tri.predict(X_norm_test)\n",
    "accuracy = accuracy_score(y_test, y_pred)\n",
    "report = classification_report(y_test, y_pred)\n",
    "\n",
    "print(\"test Accuracy:\", accuracy)\n",
    "print(\"Classification Report:\\n\", report)"
   ]
  },
  {
   "cell_type": "markdown",
   "id": "5992dbcf55833ca5",
   "metadata": {
    "collapsed": false
   },
   "source": [
    "So based on the results:\n",
    "- some models\n",
    "- some other\n"
   ]
  },
  {
   "cell_type": "markdown",
   "id": "3c15d2cfaa423a90",
   "metadata": {
    "collapsed": false
   },
   "source": [
    "Now we introduce our own Neural Network model to outperform others:\n",
    "\n",
    "### Neural Network:"
   ]
  },
  {
   "cell_type": "code",
   "execution_count": 158,
   "id": "5ec59419",
   "metadata": {},
   "outputs": [
    {
     "data": {
      "text/plain": [
       "(882, 136)"
      ]
     },
     "execution_count": 158,
     "metadata": {},
     "output_type": "execute_result"
    }
   ],
   "source": [
    "X_train, X_test, y_train, y_test = train_test_split(landmark_features, labels, test_size=0.1, random_state=42)\n",
    "\n",
    "X_train.shape"
   ]
  }
 ],
 "metadata": {
  "kernelspec": {
   "display_name": "Python 3",
   "language": "python",
   "name": "python3"
  },
  "language_info": {
   "codemirror_mode": {
    "name": "ipython",
    "version": 3
   },
   "file_extension": ".py",
   "mimetype": "text/x-python",
   "name": "python",
   "nbconvert_exporter": "python",
   "pygments_lexer": "ipython3",
   "version": "3.12.3"
  }
 },
 "nbformat": 4,
 "nbformat_minor": 5
}
