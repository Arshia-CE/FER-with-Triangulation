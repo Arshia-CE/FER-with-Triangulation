{
 "cells": [
  {
   "cell_type": "markdown",
   "id": "2ed0db9e470098b5",
   "metadata": {
    "collapsed": false
   },
   "source": [
    "## 1 - Importing related libraries and functions\n",
    "In this section we import necessary libraries and functions:\n"
   ]
  },
  {
   "cell_type": "code",
   "execution_count": 1,
   "id": "6bf927ce94bb3c87",
   "metadata": {
    "ExecuteTime": {
     "end_time": "2024-05-06T18:59:59.322073Z",
     "start_time": "2024-05-06T18:59:59.282985Z"
    },
    "collapsed": false
   },
   "outputs": [],
   "source": [
    "import os\n",
    "import cv2\n",
    "import numpy as np\n",
    "import pandas as pd\n",
    "from sklearn.model_selection import train_test_split\n",
    "\n",
    "from sklearn.neighbors import KNeighborsClassifier\n",
    "from sklearn.naive_bayes import GaussianNB\n",
    "from sklearn.svm import SVC\n",
    "from sklearn.tree import DecisionTreeClassifier\n",
    "from sklearn.discriminant_analysis import QuadraticDiscriminantAnalysis\n",
    "from sklearn.ensemble import RandomForestClassifier\n",
    "from sklearn.metrics import classification_report, accuracy_score\n",
    "from sklearn.preprocessing import StandardScaler\n",
    "\n",
    "\n",
    "from delaunay import extract_features"
   ]
  },
  {
   "cell_type": "markdown",
   "id": "d7f8a10d40bc6b54",
   "metadata": {
    "collapsed": false
   },
   "source": [
    "## 2 - Load and preprocess the dataset\n",
    "In this section we first import our designated dataset which is `CK+` dataset, read ,and load it in an array\n"
   ]
  },
  {
   "cell_type": "code",
   "execution_count": 2,
   "id": "caaaa839abaf4eed",
   "metadata": {
    "ExecuteTime": {
     "end_time": "2024-05-06T18:48:44.549813Z",
     "start_time": "2024-05-06T18:48:38.430879Z"
    },
    "collapsed": false
   },
   "outputs": [],
   "source": [
    "dataset_dir = \"dataset\"\n",
    "\n",
    "label_map = {\n",
    "    \"anger\": 0,\n",
    "    \"contempt\": 1,\n",
    "    \"disgust\": 2,\n",
    "    \"fear\": 3,\n",
    "    \"happy\": 4,\n",
    "    \"sadness\": 5,\n",
    "    \"surprise\": 6\n",
    "}\n",
    "# Load and preprocess the dataset\n",
    "def load_ckplus_dataset(dataset_dir):\n",
    "    images = []\n",
    "    labels = []\n",
    "    for subdir in os.listdir(dataset_dir):\n",
    "        if subdir in label_map:  # Check if directory name is a valid label\n",
    "            label = label_map[subdir]  # Get integer label from the mapping\n",
    "            for filename in os.listdir(os.path.join(dataset_dir, subdir)):\n",
    "                if filename.endswith(\".png\"):  # Load only image files (assuming images are in PNG format)\n",
    "                    img_path = os.path.join(dataset_dir, subdir, filename)\n",
    "                    img = cv2.imread(img_path, cv2.IMREAD_GRAYSCALE)  # Convert to grayscale\n",
    "                    img = cv2.resize(img, (100, 100))  # Resize image\n",
    "                    images.append(img)\n",
    "                    labels.append(label)\n",
    "\n",
    "    return images, labels\n",
    "\n",
    "images, labels = load_ckplus_dataset(dataset_dir)"
   ]
  },
  {
   "cell_type": "markdown",
   "id": "6df24c9b1ffafea0",
   "metadata": {
    "collapsed": false
   },
   "source": [
    "## 3 - Compare the results from raw image classification and delaunay triangulation method\n",
    "### 3.1 - Train the raw dataset\n",
    "As we know the dataset is in grayscale, we need to get the brightness level of each pixel and train our models on each image   \n",
    "then we will report the results:\n",
    "> Note: We have used standard scalar normalization that leads to better results\n"
   ]
  },
  {
   "cell_type": "markdown",
   "id": "6a4f0c67ac8a58a",
   "metadata": {
    "collapsed": false
   },
   "source": [
    "#### Pre-Process data:"
   ]
  },
  {
   "cell_type": "code",
   "execution_count": 3,
   "id": "d582dba57742cc81",
   "metadata": {
    "ExecuteTime": {
     "end_time": "2024-05-06T18:48:49.563768Z",
     "start_time": "2024-05-06T18:48:49.344075Z"
    },
    "collapsed": false
   },
   "outputs": [],
   "source": [
    "# Initialize the scalar\n",
    "scalar = StandardScaler()\n",
    "\n",
    "# Split dataset into training and testing sets\n",
    "X_train, X_test, y_train, y_test = train_test_split(images, labels, test_size=0.2, random_state=42)\n",
    "\n",
    "X_train = np.array([img.flatten() for img in X_train])\n",
    "X_test = np.array([img.flatten() for img in X_test])\n",
    "\n",
    "X_norm = scalar.fit_transform(X_train)\n",
    "X_norm_test = scalar.fit_transform(X_test)\n",
    "\n",
    "\n"
   ]
  },
  {
   "cell_type": "markdown",
   "id": "8b3931d4919e155d",
   "metadata": {
    "collapsed": false
   },
   "source": [
    "#### Training phase: \n",
    "1. SVM Model:"
   ]
  },
  {
   "cell_type": "code",
   "execution_count": 4,
   "id": "4dfe9b6c8e2a0d35",
   "metadata": {
    "ExecuteTime": {
     "end_time": "2024-05-06T18:48:55.351601Z",
     "start_time": "2024-05-06T18:48:49.967267Z"
    },
    "collapsed": false
   },
   "outputs": [
    {
     "name": "stdout",
     "output_type": "stream",
     "text": [
      "Accuracy: 0.868020304568528\n",
      "Classification Report:\n",
      "               precision    recall  f1-score   support\n",
      "\n",
      "           0       0.74      0.74      0.74        27\n",
      "           1       0.55      0.67      0.60         9\n",
      "           2       0.85      0.91      0.88        32\n",
      "           3       0.94      0.70      0.80        23\n",
      "           4       0.89      1.00      0.94        34\n",
      "           5       0.78      0.70      0.74        20\n",
      "           6       1.00      1.00      1.00        52\n",
      "\n",
      "    accuracy                           0.87       197\n",
      "   macro avg       0.82      0.82      0.81       197\n",
      "weighted avg       0.87      0.87      0.87       197\n",
      "\n"
     ]
    }
   ],
   "source": [
    "# Train the SVM classifier\n",
    "svm_classifier = SVC(kernel='rbf', C=1.0, gamma='scale')\n",
    "svm_classifier.fit(X_norm, y_train)\n",
    "\n",
    "# Evaluate the classifier\n",
    "y_pred = svm_classifier.predict(X_norm_test)\n",
    "accuracy = accuracy_score(y_test, y_pred)\n",
    "report = classification_report(y_test, y_pred)\n",
    "\n",
    "print(\"Accuracy:\", accuracy)\n",
    "print(\"Classification Report:\\n\", report)"
   ]
  },
  {
   "cell_type": "markdown",
   "id": "e947e2952cf4c1e6",
   "metadata": {
    "collapsed": false
   },
   "source": [
    "2. K-Nearest-Neighbors model:"
   ]
  },
  {
   "cell_type": "code",
   "execution_count": 5,
   "id": "42b5a9971627fd34",
   "metadata": {
    "ExecuteTime": {
     "end_time": "2024-05-06T18:48:55.679131Z",
     "start_time": "2024-05-06T18:48:55.353600Z"
    },
    "collapsed": false
   },
   "outputs": [
    {
     "name": "stdout",
     "output_type": "stream",
     "text": [
      "Accuracy: 0.36548223350253806\n",
      "Classification Report:\n",
      "               precision    recall  f1-score   support\n",
      "\n",
      "           0       0.26      0.44      0.32        27\n",
      "           1       0.46      0.67      0.55         9\n",
      "           2       0.20      0.28      0.23        32\n",
      "           3       0.40      0.17      0.24        23\n",
      "           4       0.31      0.32      0.31        34\n",
      "           5       0.17      0.10      0.12        20\n",
      "           6       0.82      0.54      0.65        52\n",
      "\n",
      "    accuracy                           0.37       197\n",
      "   macro avg       0.37      0.36      0.35       197\n",
      "weighted avg       0.42      0.37      0.37       197\n",
      "\n"
     ]
    }
   ],
   "source": [
    "# Train the KNN classifier\n",
    "knn_classifier = KNeighborsClassifier(n_neighbors=5)\n",
    "knn_classifier.fit(X_norm, y_train)\n",
    "\n",
    "# Evaluate the classifier\n",
    "y_pred = knn_classifier.predict(X_norm_test)\n",
    "accuracy = accuracy_score(y_test, y_pred)\n",
    "report = classification_report(y_test, y_pred)\n",
    "\n",
    "print(\"Accuracy:\", accuracy)\n",
    "print(\"Classification Report:\\n\", report)"
   ]
  },
  {
   "cell_type": "markdown",
   "id": "3b5b09687d5923a2",
   "metadata": {
    "collapsed": false
   },
   "source": [
    "3. Naive Bayesian Classification:"
   ]
  },
  {
   "cell_type": "code",
   "execution_count": 6,
   "id": "a1e9d20b57f6634a",
   "metadata": {
    "ExecuteTime": {
     "end_time": "2024-05-06T18:48:55.975145Z",
     "start_time": "2024-05-06T18:48:55.681118Z"
    },
    "collapsed": false
   },
   "outputs": [
    {
     "name": "stdout",
     "output_type": "stream",
     "text": [
      "Accuracy: 0.49238578680203043\n",
      "Classification Report:\n",
      "               precision    recall  f1-score   support\n",
      "\n",
      "           0       0.24      0.30      0.27        27\n",
      "           1       0.32      0.67      0.43         9\n",
      "           2       0.45      0.44      0.44        32\n",
      "           3       0.22      0.09      0.12        23\n",
      "           4       0.46      0.68      0.55        34\n",
      "           5       0.31      0.20      0.24        20\n",
      "           6       0.95      0.77      0.85        52\n",
      "\n",
      "    accuracy                           0.49       197\n",
      "   macro avg       0.42      0.45      0.42       197\n",
      "weighted avg       0.51      0.49      0.49       197\n",
      "\n"
     ]
    }
   ],
   "source": [
    "# Train the GNB classifier\n",
    "gnb_classifier = GaussianNB()\n",
    "gnb_classifier.fit(X_norm, y_train)\n",
    "\n",
    "# Evaluate the classifier\n",
    "y_pred = gnb_classifier.predict(X_norm_test)\n",
    "accuracy = accuracy_score(y_test, y_pred)\n",
    "report = classification_report(y_test, y_pred)\n",
    "\n",
    "print(\"Accuracy:\", accuracy)\n",
    "print(\"Classification Report:\\n\", report)"
   ]
  },
  {
   "cell_type": "markdown",
   "id": "e1b5bc85a950d9e6",
   "metadata": {
    "collapsed": false
   },
   "source": [
    "4. Decision Tree:"
   ]
  },
  {
   "cell_type": "code",
   "execution_count": 7,
   "id": "e119eec065e9fea3",
   "metadata": {
    "ExecuteTime": {
     "end_time": "2024-05-06T18:49:00.331605Z",
     "start_time": "2024-05-06T18:48:55.978083Z"
    },
    "collapsed": false
   },
   "outputs": [
    {
     "name": "stdout",
     "output_type": "stream",
     "text": [
      "Accuracy: 0.7461928934010152\n",
      "Classification Report:\n",
      "               precision    recall  f1-score   support\n",
      "\n",
      "           0       0.56      0.70      0.62        27\n",
      "           1       0.50      0.56      0.53         9\n",
      "           2       0.71      0.69      0.70        32\n",
      "           3       0.83      0.43      0.57        23\n",
      "           4       0.78      0.94      0.85        34\n",
      "           5       0.85      0.55      0.67        20\n",
      "           6       0.86      0.92      0.89        52\n",
      "\n",
      "    accuracy                           0.75       197\n",
      "   macro avg       0.73      0.69      0.69       197\n",
      "weighted avg       0.76      0.75      0.74       197\n",
      "\n"
     ]
    }
   ],
   "source": [
    "# Train the Tree classifier\n",
    "tree_classifier = DecisionTreeClassifier() \n",
    "tree_classifier.fit(X_norm, y_train)\n",
    "\n",
    "# Evaluate the classifier\n",
    "y_pred = tree_classifier.predict(X_norm_test)\n",
    "accuracy = accuracy_score(y_test, y_pred)\n",
    "report = classification_report(y_test, y_pred)\n",
    "\n",
    "print(\"Accuracy:\", accuracy)\n",
    "print(\"Classification Report:\\n\", report)"
   ]
  },
  {
   "cell_type": "markdown",
   "id": "3c6ce9783cfaba93",
   "metadata": {
    "collapsed": false
   },
   "source": [
    "5. Quadratic Discriminant Analysis:"
   ]
  },
  {
   "cell_type": "code",
   "execution_count": 8,
   "id": "3e78e64d607426aa",
   "metadata": {
    "ExecuteTime": {
     "end_time": "2024-05-06T18:49:01.423241Z",
     "start_time": "2024-05-06T18:49:00.333958Z"
    },
    "collapsed": false
   },
   "outputs": [
    {
     "name": "stderr",
     "output_type": "stream",
     "text": [
      "/Users/alihamedi/mambaforge/envs/main-env/lib/python3.12/site-packages/sklearn/discriminant_analysis.py:935: UserWarning: Variables are collinear\n",
      "  warnings.warn(\"Variables are collinear\")\n"
     ]
    },
    {
     "name": "stdout",
     "output_type": "stream",
     "text": [
      "Accuracy: 0.467005076142132\n",
      "Classification Report:\n",
      "               precision    recall  f1-score   support\n",
      "\n",
      "           0       0.43      0.33      0.38        27\n",
      "           1       0.50      0.33      0.40         9\n",
      "           2       0.50      0.53      0.52        32\n",
      "           3       0.38      0.48      0.42        23\n",
      "           4       0.45      0.50      0.47        34\n",
      "           5       0.27      0.50      0.35        20\n",
      "           6       0.78      0.48      0.60        52\n",
      "\n",
      "    accuracy                           0.47       197\n",
      "   macro avg       0.47      0.45      0.45       197\n",
      "weighted avg       0.52      0.47      0.48       197\n",
      "\n"
     ]
    }
   ],
   "source": [
    "# Train the QDA classifier\n",
    "qda_classifier = QuadraticDiscriminantAnalysis()\n",
    "qda_classifier.fit(X_norm, y_train)\n",
    "\n",
    "# Evaluate the classifier\n",
    "y_pred = qda_classifier.predict(X_norm_test)\n",
    "accuracy = accuracy_score(y_test, y_pred)\n",
    "report = classification_report(y_test, y_pred)\n",
    "\n",
    "print(\"Accuracy:\", accuracy)\n",
    "print(\"Classification Report:\\n\", report)"
   ]
  },
  {
   "cell_type": "markdown",
   "id": "e1c6db645e02de5b",
   "metadata": {
    "collapsed": false
   },
   "source": [
    "6. Random Forest:"
   ]
  },
  {
   "cell_type": "code",
   "execution_count": 9,
   "id": "a6f79af31e4ffb71",
   "metadata": {
    "ExecuteTime": {
     "end_time": "2024-05-06T18:49:04.422047Z",
     "start_time": "2024-05-06T18:49:01.425240Z"
    },
    "collapsed": false
   },
   "outputs": [
    {
     "name": "stdout",
     "output_type": "stream",
     "text": [
      "Accuracy: 0.9593908629441624\n",
      "Classification Report:\n",
      "               precision    recall  f1-score   support\n",
      "\n",
      "           0       0.96      0.93      0.94        27\n",
      "           1       1.00      0.78      0.88         9\n",
      "           2       0.94      1.00      0.97        32\n",
      "           3       1.00      0.83      0.90        23\n",
      "           4       0.92      1.00      0.96        34\n",
      "           5       0.91      1.00      0.95        20\n",
      "           6       1.00      1.00      1.00        52\n",
      "\n",
      "    accuracy                           0.96       197\n",
      "   macro avg       0.96      0.93      0.94       197\n",
      "weighted avg       0.96      0.96      0.96       197\n",
      "\n"
     ]
    }
   ],
   "source": [
    "# Train the rf classifier\n",
    "rf_classifier = RandomForestClassifier()\n",
    "rf_classifier.fit(X_norm, y_train)\n",
    "\n",
    "# Evaluate the classifier\n",
    "y_pred = rf_classifier.predict(X_norm_test)\n",
    "accuracy = accuracy_score(y_test, y_pred)\n",
    "report = classification_report(y_test, y_pred)\n",
    "\n",
    "print(\"Accuracy:\", accuracy)\n",
    "print(\"Classification Report:\\n\", report)"
   ]
  },
  {
   "cell_type": "markdown",
   "id": "a30d1d3e1c219011",
   "metadata": {
    "collapsed": false
   },
   "source": [
    "## 3.2 - Train the on dataset with triangulation\n",
    "As implemented in the corresponding class, we need to detect landmarks of each image and use the detected points to train our model and give the results: \n",
    "> Note: We have used standard scalar normalization that leads to better results\n"
   ]
  },
  {
   "cell_type": "markdown",
   "id": "6bfffca233c4ee9b",
   "metadata": {
    "collapsed": false
   },
   "source": [
    "We first build a function to process landmarks for rach image and save it to save time:"
   ]
  },
  {
   "cell_type": "code",
   "execution_count": 13,
   "id": "20c66d57",
   "metadata": {},
   "outputs": [
    {
     "data": {
      "text/plain": [
       "981"
      ]
     },
     "execution_count": 13,
     "metadata": {},
     "output_type": "execute_result"
    }
   ],
   "source": []
  },
  {
   "cell_type": "code",
   "execution_count": null,
   "id": "ba15b540bdf56250",
   "metadata": {
    "ExecuteTime": {
     "end_time": "2024-05-06T19:18:05.945676Z",
     "start_time": "2024-05-06T19:00:44.729964Z"
    },
    "collapsed": false
   },
   "outputs": [],
   "source": [
    "def extract_landmark_features(images):\n",
    "    landmarks_list = []\n",
    "    feature_lengths = []\n",
    "    landmarks_vector = []\n",
    "    maxX = len(images)\n",
    "    x = 0\n",
    "    for image in images:\n",
    "        features, lands  = extract_features(image)\n",
    "        x +=1 \n",
    "        print(x/maxX)\n",
    "        landmarks_list.append(features.tolist())\n",
    "        landmarks_vector.append(np.array(lands).flatten())\n",
    "        feature_lengths.append(len(features))\n",
    "\n",
    "    max_features = max(feature_lengths)\n",
    "\n",
    "    \n",
    "    for i in range(len(images)):\n",
    "        current_length = len(landmarks_list[i])\n",
    "        if current_length < max_features:\n",
    "            padding = [0] * (max_features - current_length)\n",
    "            landmarks_list[i].extend(padding)\n",
    "\n",
    "    head = np.arange(max_features)\n",
    "    data_combined = pd.DataFrame(landmarks_list, columns=head)\n",
    "    data_combined.to_csv('features.csv', index=False)\n",
    "    data_landmarks = pd.DataFrame(landmarks_vector)\n",
    "    data_landmarks.to_csv('landmarks.csv',index=False)\n",
    "    \n",
    "    return np.array(landmarks_list)\n",
    "\n",
    "landmark_features = extract_landmark_features()"
   ]
  },
  {
   "cell_type": "markdown",
   "id": "c6d1d88540b1233b",
   "metadata": {
    "collapsed": false
   },
   "source": [
    "### Pre-Process data:\n",
    "we use previously stored data for training:"
   ]
  },
  {
   "cell_type": "code",
   "execution_count": 45,
   "id": "5d0463fc",
   "metadata": {},
   "outputs": [
    {
     "data": {
      "text/html": [
       "<div>\n",
       "<style scoped>\n",
       "    .dataframe tbody tr th:only-of-type {\n",
       "        vertical-align: middle;\n",
       "    }\n",
       "\n",
       "    .dataframe tbody tr th {\n",
       "        vertical-align: top;\n",
       "    }\n",
       "\n",
       "    .dataframe thead th {\n",
       "        text-align: right;\n",
       "    }\n",
       "</style>\n",
       "<table border=\"1\" class=\"dataframe\">\n",
       "  <thead>\n",
       "    <tr style=\"text-align: right;\">\n",
       "      <th></th>\n",
       "      <th>0</th>\n",
       "      <th>1</th>\n",
       "      <th>2</th>\n",
       "      <th>3</th>\n",
       "      <th>4</th>\n",
       "      <th>5</th>\n",
       "      <th>6</th>\n",
       "      <th>7</th>\n",
       "      <th>8</th>\n",
       "      <th>9</th>\n",
       "      <th>...</th>\n",
       "      <th>766</th>\n",
       "      <th>767</th>\n",
       "      <th>768</th>\n",
       "      <th>769</th>\n",
       "      <th>770</th>\n",
       "      <th>771</th>\n",
       "      <th>772</th>\n",
       "      <th>773</th>\n",
       "      <th>774</th>\n",
       "      <th>775</th>\n",
       "    </tr>\n",
       "  </thead>\n",
       "  <tbody>\n",
       "    <tr>\n",
       "      <th>0</th>\n",
       "      <td>19.0</td>\n",
       "      <td>40.0</td>\n",
       "      <td>3.0</td>\n",
       "      <td>41.0</td>\n",
       "      <td>10.0</td>\n",
       "      <td>32.0</td>\n",
       "      <td>10.666667</td>\n",
       "      <td>37.666668</td>\n",
       "      <td>3.0</td>\n",
       "      <td>41.0</td>\n",
       "      <td>...</td>\n",
       "      <td>59.666668</td>\n",
       "      <td>88.000000</td>\n",
       "      <td>43.0</td>\n",
       "      <td>85.0</td>\n",
       "      <td>33.0</td>\n",
       "      <td>75.0</td>\n",
       "      <td>43.0</td>\n",
       "      <td>77.0</td>\n",
       "      <td>39.666668</td>\n",
       "      <td>79.000000</td>\n",
       "    </tr>\n",
       "    <tr>\n",
       "      <th>1</th>\n",
       "      <td>50.0</td>\n",
       "      <td>60.0</td>\n",
       "      <td>57.0</td>\n",
       "      <td>65.0</td>\n",
       "      <td>53.0</td>\n",
       "      <td>66.0</td>\n",
       "      <td>53.333332</td>\n",
       "      <td>63.666668</td>\n",
       "      <td>57.0</td>\n",
       "      <td>65.0</td>\n",
       "      <td>...</td>\n",
       "      <td>63.333332</td>\n",
       "      <td>77.666664</td>\n",
       "      <td>62.0</td>\n",
       "      <td>85.0</td>\n",
       "      <td>66.0</td>\n",
       "      <td>97.0</td>\n",
       "      <td>54.0</td>\n",
       "      <td>90.0</td>\n",
       "      <td>60.666668</td>\n",
       "      <td>90.666664</td>\n",
       "    </tr>\n",
       "    <tr>\n",
       "      <th>2</th>\n",
       "      <td>61.0</td>\n",
       "      <td>43.0</td>\n",
       "      <td>59.0</td>\n",
       "      <td>64.0</td>\n",
       "      <td>51.0</td>\n",
       "      <td>54.0</td>\n",
       "      <td>57.000000</td>\n",
       "      <td>53.666668</td>\n",
       "      <td>59.0</td>\n",
       "      <td>64.0</td>\n",
       "      <td>...</td>\n",
       "      <td>58.666668</td>\n",
       "      <td>70.666664</td>\n",
       "      <td>64.0</td>\n",
       "      <td>70.0</td>\n",
       "      <td>70.0</td>\n",
       "      <td>73.0</td>\n",
       "      <td>68.0</td>\n",
       "      <td>73.0</td>\n",
       "      <td>67.333336</td>\n",
       "      <td>72.000000</td>\n",
       "    </tr>\n",
       "    <tr>\n",
       "      <th>3</th>\n",
       "      <td>25.0</td>\n",
       "      <td>41.0</td>\n",
       "      <td>9.0</td>\n",
       "      <td>41.0</td>\n",
       "      <td>16.0</td>\n",
       "      <td>35.0</td>\n",
       "      <td>16.666666</td>\n",
       "      <td>39.000000</td>\n",
       "      <td>9.0</td>\n",
       "      <td>41.0</td>\n",
       "      <td>...</td>\n",
       "      <td>61.333332</td>\n",
       "      <td>88.333336</td>\n",
       "      <td>66.0</td>\n",
       "      <td>80.0</td>\n",
       "      <td>58.0</td>\n",
       "      <td>85.0</td>\n",
       "      <td>58.0</td>\n",
       "      <td>78.0</td>\n",
       "      <td>60.666668</td>\n",
       "      <td>81.000000</td>\n",
       "    </tr>\n",
       "    <tr>\n",
       "      <th>4</th>\n",
       "      <td>27.0</td>\n",
       "      <td>43.0</td>\n",
       "      <td>23.0</td>\n",
       "      <td>32.0</td>\n",
       "      <td>31.0</td>\n",
       "      <td>41.0</td>\n",
       "      <td>27.000000</td>\n",
       "      <td>38.666668</td>\n",
       "      <td>23.0</td>\n",
       "      <td>32.0</td>\n",
       "      <td>...</td>\n",
       "      <td>46.666668</td>\n",
       "      <td>76.000000</td>\n",
       "      <td>57.0</td>\n",
       "      <td>86.0</td>\n",
       "      <td>50.0</td>\n",
       "      <td>87.0</td>\n",
       "      <td>50.0</td>\n",
       "      <td>81.0</td>\n",
       "      <td>52.333332</td>\n",
       "      <td>84.666664</td>\n",
       "    </tr>\n",
       "    <tr>\n",
       "      <th>...</th>\n",
       "      <td>...</td>\n",
       "      <td>...</td>\n",
       "      <td>...</td>\n",
       "      <td>...</td>\n",
       "      <td>...</td>\n",
       "      <td>...</td>\n",
       "      <td>...</td>\n",
       "      <td>...</td>\n",
       "      <td>...</td>\n",
       "      <td>...</td>\n",
       "      <td>...</td>\n",
       "      <td>...</td>\n",
       "      <td>...</td>\n",
       "      <td>...</td>\n",
       "      <td>...</td>\n",
       "      <td>...</td>\n",
       "      <td>...</td>\n",
       "      <td>...</td>\n",
       "      <td>...</td>\n",
       "      <td>...</td>\n",
       "      <td>...</td>\n",
       "    </tr>\n",
       "    <tr>\n",
       "      <th>976</th>\n",
       "      <td>22.0</td>\n",
       "      <td>39.0</td>\n",
       "      <td>5.0</td>\n",
       "      <td>42.0</td>\n",
       "      <td>12.0</td>\n",
       "      <td>32.0</td>\n",
       "      <td>13.000000</td>\n",
       "      <td>37.666668</td>\n",
       "      <td>5.0</td>\n",
       "      <td>42.0</td>\n",
       "      <td>...</td>\n",
       "      <td>62.333332</td>\n",
       "      <td>79.666664</td>\n",
       "      <td>54.0</td>\n",
       "      <td>77.0</td>\n",
       "      <td>54.0</td>\n",
       "      <td>78.0</td>\n",
       "      <td>49.0</td>\n",
       "      <td>77.0</td>\n",
       "      <td>52.333332</td>\n",
       "      <td>77.333336</td>\n",
       "    </tr>\n",
       "    <tr>\n",
       "      <th>977</th>\n",
       "      <td>15.0</td>\n",
       "      <td>33.0</td>\n",
       "      <td>8.0</td>\n",
       "      <td>47.0</td>\n",
       "      <td>7.0</td>\n",
       "      <td>35.0</td>\n",
       "      <td>10.000000</td>\n",
       "      <td>38.333332</td>\n",
       "      <td>8.0</td>\n",
       "      <td>47.0</td>\n",
       "      <td>...</td>\n",
       "      <td>62.333332</td>\n",
       "      <td>76.000000</td>\n",
       "      <td>61.0</td>\n",
       "      <td>73.0</td>\n",
       "      <td>66.0</td>\n",
       "      <td>75.0</td>\n",
       "      <td>64.0</td>\n",
       "      <td>75.0</td>\n",
       "      <td>63.666668</td>\n",
       "      <td>74.333336</td>\n",
       "    </tr>\n",
       "    <tr>\n",
       "      <th>978</th>\n",
       "      <td>27.0</td>\n",
       "      <td>39.0</td>\n",
       "      <td>32.0</td>\n",
       "      <td>42.0</td>\n",
       "      <td>27.0</td>\n",
       "      <td>42.0</td>\n",
       "      <td>28.666666</td>\n",
       "      <td>41.000000</td>\n",
       "      <td>32.0</td>\n",
       "      <td>42.0</td>\n",
       "      <td>...</td>\n",
       "      <td>59.333332</td>\n",
       "      <td>88.666664</td>\n",
       "      <td>41.0</td>\n",
       "      <td>75.0</td>\n",
       "      <td>45.0</td>\n",
       "      <td>77.0</td>\n",
       "      <td>40.0</td>\n",
       "      <td>79.0</td>\n",
       "      <td>42.000000</td>\n",
       "      <td>77.000000</td>\n",
       "    </tr>\n",
       "    <tr>\n",
       "      <th>979</th>\n",
       "      <td>38.0</td>\n",
       "      <td>41.0</td>\n",
       "      <td>33.0</td>\n",
       "      <td>41.0</td>\n",
       "      <td>33.0</td>\n",
       "      <td>39.0</td>\n",
       "      <td>34.666668</td>\n",
       "      <td>40.333332</td>\n",
       "      <td>33.0</td>\n",
       "      <td>41.0</td>\n",
       "      <td>...</td>\n",
       "      <td>65.333336</td>\n",
       "      <td>74.333336</td>\n",
       "      <td>61.0</td>\n",
       "      <td>79.0</td>\n",
       "      <td>61.0</td>\n",
       "      <td>72.0</td>\n",
       "      <td>66.0</td>\n",
       "      <td>76.0</td>\n",
       "      <td>62.666668</td>\n",
       "      <td>75.666664</td>\n",
       "    </tr>\n",
       "    <tr>\n",
       "      <th>980</th>\n",
       "      <td>65.0</td>\n",
       "      <td>42.0</td>\n",
       "      <td>70.0</td>\n",
       "      <td>40.0</td>\n",
       "      <td>70.0</td>\n",
       "      <td>43.0</td>\n",
       "      <td>68.333336</td>\n",
       "      <td>41.666668</td>\n",
       "      <td>70.0</td>\n",
       "      <td>40.0</td>\n",
       "      <td>...</td>\n",
       "      <td>59.666668</td>\n",
       "      <td>89.666664</td>\n",
       "      <td>53.0</td>\n",
       "      <td>86.0</td>\n",
       "      <td>68.0</td>\n",
       "      <td>99.0</td>\n",
       "      <td>48.0</td>\n",
       "      <td>86.0</td>\n",
       "      <td>56.333332</td>\n",
       "      <td>90.333336</td>\n",
       "    </tr>\n",
       "  </tbody>\n",
       "</table>\n",
       "<p>981 rows × 776 columns</p>\n",
       "</div>"
      ],
      "text/plain": [
       "        0     1     2     3     4     5          6          7     8     9  \\\n",
       "0    19.0  40.0   3.0  41.0  10.0  32.0  10.666667  37.666668   3.0  41.0   \n",
       "1    50.0  60.0  57.0  65.0  53.0  66.0  53.333332  63.666668  57.0  65.0   \n",
       "2    61.0  43.0  59.0  64.0  51.0  54.0  57.000000  53.666668  59.0  64.0   \n",
       "3    25.0  41.0   9.0  41.0  16.0  35.0  16.666666  39.000000   9.0  41.0   \n",
       "4    27.0  43.0  23.0  32.0  31.0  41.0  27.000000  38.666668  23.0  32.0   \n",
       "..    ...   ...   ...   ...   ...   ...        ...        ...   ...   ...   \n",
       "976  22.0  39.0   5.0  42.0  12.0  32.0  13.000000  37.666668   5.0  42.0   \n",
       "977  15.0  33.0   8.0  47.0   7.0  35.0  10.000000  38.333332   8.0  47.0   \n",
       "978  27.0  39.0  32.0  42.0  27.0  42.0  28.666666  41.000000  32.0  42.0   \n",
       "979  38.0  41.0  33.0  41.0  33.0  39.0  34.666668  40.333332  33.0  41.0   \n",
       "980  65.0  42.0  70.0  40.0  70.0  43.0  68.333336  41.666668  70.0  40.0   \n",
       "\n",
       "     ...        766        767   768   769   770   771   772   773        774  \\\n",
       "0    ...  59.666668  88.000000  43.0  85.0  33.0  75.0  43.0  77.0  39.666668   \n",
       "1    ...  63.333332  77.666664  62.0  85.0  66.0  97.0  54.0  90.0  60.666668   \n",
       "2    ...  58.666668  70.666664  64.0  70.0  70.0  73.0  68.0  73.0  67.333336   \n",
       "3    ...  61.333332  88.333336  66.0  80.0  58.0  85.0  58.0  78.0  60.666668   \n",
       "4    ...  46.666668  76.000000  57.0  86.0  50.0  87.0  50.0  81.0  52.333332   \n",
       "..   ...        ...        ...   ...   ...   ...   ...   ...   ...        ...   \n",
       "976  ...  62.333332  79.666664  54.0  77.0  54.0  78.0  49.0  77.0  52.333332   \n",
       "977  ...  62.333332  76.000000  61.0  73.0  66.0  75.0  64.0  75.0  63.666668   \n",
       "978  ...  59.333332  88.666664  41.0  75.0  45.0  77.0  40.0  79.0  42.000000   \n",
       "979  ...  65.333336  74.333336  61.0  79.0  61.0  72.0  66.0  76.0  62.666668   \n",
       "980  ...  59.666668  89.666664  53.0  86.0  68.0  99.0  48.0  86.0  56.333332   \n",
       "\n",
       "           775  \n",
       "0    79.000000  \n",
       "1    90.666664  \n",
       "2    72.000000  \n",
       "3    81.000000  \n",
       "4    84.666664  \n",
       "..         ...  \n",
       "976  77.333336  \n",
       "977  74.333336  \n",
       "978  77.000000  \n",
       "979  75.666664  \n",
       "980  90.333336  \n",
       "\n",
       "[981 rows x 776 columns]"
      ]
     },
     "execution_count": 45,
     "metadata": {},
     "output_type": "execute_result"
    }
   ],
   "source": [
    "df = pd.read_csv('features.csv')\n",
    "drop_list = [f\"{i}\" for i in range(776,904)]\n",
    "df = df.drop(drop_list,axis=1)\n",
    "df"
   ]
  },
  {
   "cell_type": "code",
   "execution_count": 44,
   "id": "3de9ca7e8dbf9f61",
   "metadata": {
    "ExecuteTime": {
     "end_time": "2024-05-06T19:28:55.536308Z",
     "start_time": "2024-05-06T19:28:54.755906Z"
    },
    "collapsed": false
   },
   "outputs": [
    {
     "ename": "ValueError",
     "evalue": "Found input variables with inconsistent numbers of samples: [776, 981]",
     "output_type": "error",
     "traceback": [
      "\u001b[0;31m---------------------------------------------------------------------------\u001b[0m",
      "\u001b[0;31mValueError\u001b[0m                                Traceback (most recent call last)",
      "Cell \u001b[0;32mIn[44], line 9\u001b[0m\n\u001b[1;32m      6\u001b[0m scalar \u001b[38;5;241m=\u001b[39m StandardScaler()\n\u001b[1;32m      8\u001b[0m \u001b[38;5;66;03m# Split dataset into training and testing sets\u001b[39;00m\n\u001b[0;32m----> 9\u001b[0m X_train, X_test, y_train, y_test \u001b[38;5;241m=\u001b[39m \u001b[43mtrain_test_split\u001b[49m\u001b[43m(\u001b[49m\u001b[43mlandmark_features\u001b[49m\u001b[43m,\u001b[49m\u001b[43m \u001b[49m\u001b[43mlabels\u001b[49m\u001b[43m,\u001b[49m\u001b[43m \u001b[49m\u001b[43mtest_size\u001b[49m\u001b[38;5;241;43m=\u001b[39;49m\u001b[38;5;241;43m0.1\u001b[39;49m\u001b[43m,\u001b[49m\u001b[43m \u001b[49m\u001b[43mrandom_state\u001b[49m\u001b[38;5;241;43m=\u001b[39;49m\u001b[38;5;241;43m42\u001b[39;49m\u001b[43m)\u001b[49m\n\u001b[1;32m     11\u001b[0m X_train \u001b[38;5;241m=\u001b[39m np\u001b[38;5;241m.\u001b[39marray([img\u001b[38;5;241m.\u001b[39mflatten() \u001b[38;5;28;01mfor\u001b[39;00m img \u001b[38;5;129;01min\u001b[39;00m X_train])\n\u001b[1;32m     12\u001b[0m X_test \u001b[38;5;241m=\u001b[39m np\u001b[38;5;241m.\u001b[39marray([img\u001b[38;5;241m.\u001b[39mflatten() \u001b[38;5;28;01mfor\u001b[39;00m img \u001b[38;5;129;01min\u001b[39;00m X_test])\n",
      "File \u001b[0;32m~/mambaforge/envs/main-env/lib/python3.12/site-packages/sklearn/utils/_param_validation.py:213\u001b[0m, in \u001b[0;36mvalidate_params.<locals>.decorator.<locals>.wrapper\u001b[0;34m(*args, **kwargs)\u001b[0m\n\u001b[1;32m    207\u001b[0m \u001b[38;5;28;01mtry\u001b[39;00m:\n\u001b[1;32m    208\u001b[0m     \u001b[38;5;28;01mwith\u001b[39;00m config_context(\n\u001b[1;32m    209\u001b[0m         skip_parameter_validation\u001b[38;5;241m=\u001b[39m(\n\u001b[1;32m    210\u001b[0m             prefer_skip_nested_validation \u001b[38;5;129;01mor\u001b[39;00m global_skip_validation\n\u001b[1;32m    211\u001b[0m         )\n\u001b[1;32m    212\u001b[0m     ):\n\u001b[0;32m--> 213\u001b[0m         \u001b[38;5;28;01mreturn\u001b[39;00m \u001b[43mfunc\u001b[49m\u001b[43m(\u001b[49m\u001b[38;5;241;43m*\u001b[39;49m\u001b[43margs\u001b[49m\u001b[43m,\u001b[49m\u001b[43m \u001b[49m\u001b[38;5;241;43m*\u001b[39;49m\u001b[38;5;241;43m*\u001b[39;49m\u001b[43mkwargs\u001b[49m\u001b[43m)\u001b[49m\n\u001b[1;32m    214\u001b[0m \u001b[38;5;28;01mexcept\u001b[39;00m InvalidParameterError \u001b[38;5;28;01mas\u001b[39;00m e:\n\u001b[1;32m    215\u001b[0m     \u001b[38;5;66;03m# When the function is just a wrapper around an estimator, we allow\u001b[39;00m\n\u001b[1;32m    216\u001b[0m     \u001b[38;5;66;03m# the function to delegate validation to the estimator, but we replace\u001b[39;00m\n\u001b[1;32m    217\u001b[0m     \u001b[38;5;66;03m# the name of the estimator by the name of the function in the error\u001b[39;00m\n\u001b[1;32m    218\u001b[0m     \u001b[38;5;66;03m# message to avoid confusion.\u001b[39;00m\n\u001b[1;32m    219\u001b[0m     msg \u001b[38;5;241m=\u001b[39m re\u001b[38;5;241m.\u001b[39msub(\n\u001b[1;32m    220\u001b[0m         \u001b[38;5;124mr\u001b[39m\u001b[38;5;124m\"\u001b[39m\u001b[38;5;124mparameter of \u001b[39m\u001b[38;5;124m\\\u001b[39m\u001b[38;5;124mw+ must be\u001b[39m\u001b[38;5;124m\"\u001b[39m,\n\u001b[1;32m    221\u001b[0m         \u001b[38;5;124mf\u001b[39m\u001b[38;5;124m\"\u001b[39m\u001b[38;5;124mparameter of \u001b[39m\u001b[38;5;132;01m{\u001b[39;00mfunc\u001b[38;5;241m.\u001b[39m\u001b[38;5;18m__qualname__\u001b[39m\u001b[38;5;132;01m}\u001b[39;00m\u001b[38;5;124m must be\u001b[39m\u001b[38;5;124m\"\u001b[39m,\n\u001b[1;32m    222\u001b[0m         \u001b[38;5;28mstr\u001b[39m(e),\n\u001b[1;32m    223\u001b[0m     )\n",
      "File \u001b[0;32m~/mambaforge/envs/main-env/lib/python3.12/site-packages/sklearn/model_selection/_split.py:2657\u001b[0m, in \u001b[0;36mtrain_test_split\u001b[0;34m(test_size, train_size, random_state, shuffle, stratify, *arrays)\u001b[0m\n\u001b[1;32m   2654\u001b[0m \u001b[38;5;28;01mif\u001b[39;00m n_arrays \u001b[38;5;241m==\u001b[39m \u001b[38;5;241m0\u001b[39m:\n\u001b[1;32m   2655\u001b[0m     \u001b[38;5;28;01mraise\u001b[39;00m \u001b[38;5;167;01mValueError\u001b[39;00m(\u001b[38;5;124m\"\u001b[39m\u001b[38;5;124mAt least one array required as input\u001b[39m\u001b[38;5;124m\"\u001b[39m)\n\u001b[0;32m-> 2657\u001b[0m arrays \u001b[38;5;241m=\u001b[39m \u001b[43mindexable\u001b[49m\u001b[43m(\u001b[49m\u001b[38;5;241;43m*\u001b[39;49m\u001b[43marrays\u001b[49m\u001b[43m)\u001b[49m\n\u001b[1;32m   2659\u001b[0m n_samples \u001b[38;5;241m=\u001b[39m _num_samples(arrays[\u001b[38;5;241m0\u001b[39m])\n\u001b[1;32m   2660\u001b[0m n_train, n_test \u001b[38;5;241m=\u001b[39m _validate_shuffle_split(\n\u001b[1;32m   2661\u001b[0m     n_samples, test_size, train_size, default_test_size\u001b[38;5;241m=\u001b[39m\u001b[38;5;241m0.25\u001b[39m\n\u001b[1;32m   2662\u001b[0m )\n",
      "File \u001b[0;32m~/mambaforge/envs/main-env/lib/python3.12/site-packages/sklearn/utils/validation.py:514\u001b[0m, in \u001b[0;36mindexable\u001b[0;34m(*iterables)\u001b[0m\n\u001b[1;32m    484\u001b[0m \u001b[38;5;250m\u001b[39m\u001b[38;5;124;03m\"\"\"Make arrays indexable for cross-validation.\u001b[39;00m\n\u001b[1;32m    485\u001b[0m \n\u001b[1;32m    486\u001b[0m \u001b[38;5;124;03mChecks consistent length, passes through None, and ensures that everything\u001b[39;00m\n\u001b[0;32m   (...)\u001b[0m\n\u001b[1;32m    510\u001b[0m \u001b[38;5;124;03m[[1, 2, 3], array([2, 3, 4]), None, <3x1 sparse matrix ...>]\u001b[39;00m\n\u001b[1;32m    511\u001b[0m \u001b[38;5;124;03m\"\"\"\u001b[39;00m\n\u001b[1;32m    513\u001b[0m result \u001b[38;5;241m=\u001b[39m [_make_indexable(X) \u001b[38;5;28;01mfor\u001b[39;00m X \u001b[38;5;129;01min\u001b[39;00m iterables]\n\u001b[0;32m--> 514\u001b[0m \u001b[43mcheck_consistent_length\u001b[49m\u001b[43m(\u001b[49m\u001b[38;5;241;43m*\u001b[39;49m\u001b[43mresult\u001b[49m\u001b[43m)\u001b[49m\n\u001b[1;32m    515\u001b[0m \u001b[38;5;28;01mreturn\u001b[39;00m result\n",
      "File \u001b[0;32m~/mambaforge/envs/main-env/lib/python3.12/site-packages/sklearn/utils/validation.py:457\u001b[0m, in \u001b[0;36mcheck_consistent_length\u001b[0;34m(*arrays)\u001b[0m\n\u001b[1;32m    455\u001b[0m uniques \u001b[38;5;241m=\u001b[39m np\u001b[38;5;241m.\u001b[39munique(lengths)\n\u001b[1;32m    456\u001b[0m \u001b[38;5;28;01mif\u001b[39;00m \u001b[38;5;28mlen\u001b[39m(uniques) \u001b[38;5;241m>\u001b[39m \u001b[38;5;241m1\u001b[39m:\n\u001b[0;32m--> 457\u001b[0m     \u001b[38;5;28;01mraise\u001b[39;00m \u001b[38;5;167;01mValueError\u001b[39;00m(\n\u001b[1;32m    458\u001b[0m         \u001b[38;5;124m\"\u001b[39m\u001b[38;5;124mFound input variables with inconsistent numbers of samples: \u001b[39m\u001b[38;5;132;01m%r\u001b[39;00m\u001b[38;5;124m\"\u001b[39m\n\u001b[1;32m    459\u001b[0m         \u001b[38;5;241m%\u001b[39m [\u001b[38;5;28mint\u001b[39m(l) \u001b[38;5;28;01mfor\u001b[39;00m l \u001b[38;5;129;01min\u001b[39;00m lengths]\n\u001b[1;32m    460\u001b[0m     )\n",
      "\u001b[0;31mValueError\u001b[0m: Found input variables with inconsistent numbers of samples: [776, 981]"
     ]
    }
   ],
   "source": [
    "landmark_features = df.values\n",
    "\n",
    "# Initialize the scalar\n",
    "scalar = StandardScaler()\n",
    "\n",
    "# Split dataset into training and testing sets\n",
    "X_train, X_test, y_train, y_test = train_test_split(landmark_features, labels, test_size=0.1, random_state=42)\n",
    "\n",
    "X_train = np.array([img.flatten() for img in X_train])\n",
    "X_test = np.array([img.flatten() for img in X_test])\n",
    "\n",
    "X_norm = scalar.fit_transform(X_train)\n",
    "X_norm_test = scalar.transform(X_test)\n",
    "\n",
    "landmark_features"
   ]
  },
  {
   "cell_type": "markdown",
   "id": "bace7c927f986957",
   "metadata": {
    "collapsed": false
   },
   "source": [
    "#### Training phase: \n",
    "1. SVM Model:"
   ]
  },
  {
   "cell_type": "code",
   "execution_count": null,
   "id": "4b8e9315c5db66a8",
   "metadata": {
    "ExecuteTime": {
     "end_time": "2024-05-06T19:29:01.084236Z",
     "start_time": "2024-05-06T19:29:00.874354Z"
    },
    "collapsed": false
   },
   "outputs": [
    {
     "name": "stdout",
     "output_type": "stream",
     "text": [
      "Accuracy: 0.42424242424242425\n",
      "Classification Report:\n",
      "               precision    recall  f1-score   support\n",
      "\n",
      "           0       0.75      0.20      0.32        15\n",
      "           1       0.00      0.00      0.00         5\n",
      "           2       0.62      0.72      0.67        18\n",
      "           3       0.50      0.08      0.13        13\n",
      "           4       0.38      0.59      0.47        17\n",
      "           5       0.00      0.00      0.00        12\n",
      "           6       0.33      0.79      0.46        19\n",
      "\n",
      "    accuracy                           0.42        99\n",
      "   macro avg       0.37      0.34      0.29        99\n",
      "weighted avg       0.42      0.42      0.36        99\n",
      "\n"
     ]
    },
    {
     "name": "stderr",
     "output_type": "stream",
     "text": [
      "/Users/alihamedi/mambaforge/envs/main-env/lib/python3.12/site-packages/sklearn/metrics/_classification.py:1509: UndefinedMetricWarning: Precision is ill-defined and being set to 0.0 in labels with no predicted samples. Use `zero_division` parameter to control this behavior.\n",
      "  _warn_prf(average, modifier, f\"{metric.capitalize()} is\", len(result))\n",
      "/Users/alihamedi/mambaforge/envs/main-env/lib/python3.12/site-packages/sklearn/metrics/_classification.py:1509: UndefinedMetricWarning: Precision is ill-defined and being set to 0.0 in labels with no predicted samples. Use `zero_division` parameter to control this behavior.\n",
      "  _warn_prf(average, modifier, f\"{metric.capitalize()} is\", len(result))\n",
      "/Users/alihamedi/mambaforge/envs/main-env/lib/python3.12/site-packages/sklearn/metrics/_classification.py:1509: UndefinedMetricWarning: Precision is ill-defined and being set to 0.0 in labels with no predicted samples. Use `zero_division` parameter to control this behavior.\n",
      "  _warn_prf(average, modifier, f\"{metric.capitalize()} is\", len(result))\n"
     ]
    }
   ],
   "source": [
    "# Train the SVM classifier\n",
    "svm_classifier_tri = SVC(kernel='rbf', C=1.0, gamma='scale')\n",
    "svm_classifier_tri.fit(X_norm, y_train)\n",
    "\n",
    "# Evaluate the classifier\n",
    "y_pred = svm_classifier_tri.predict(X_norm_test)\n",
    "accuracy = accuracy_score(y_test, y_pred)\n",
    "report = classification_report(y_test, y_pred)\n",
    "\n",
    "print(\"Accuracy:\", accuracy)\n",
    "print(\"Classification Report:\\n\", report)"
   ]
  },
  {
   "cell_type": "markdown",
   "id": "aeb9b26f9deb925d",
   "metadata": {
    "collapsed": false
   },
   "source": [
    "2. K-Nearest-Neighbors model:"
   ]
  },
  {
   "cell_type": "code",
   "execution_count": null,
   "id": "e028edc6f7af989e",
   "metadata": {
    "ExecuteTime": {
     "end_time": "2024-05-06T19:29:11.087776Z",
     "start_time": "2024-05-06T19:29:11.000050Z"
    },
    "collapsed": false
   },
   "outputs": [
    {
     "name": "stdout",
     "output_type": "stream",
     "text": [
      "Accuracy: 0.37373737373737376\n",
      "Classification Report:\n",
      "               precision    recall  f1-score   support\n",
      "\n",
      "           0       0.25      0.27      0.26        15\n",
      "           1       0.33      0.20      0.25         5\n",
      "           2       0.52      0.72      0.60        18\n",
      "           3       0.36      0.31      0.33        13\n",
      "           4       0.36      0.47      0.41        17\n",
      "           5       0.00      0.00      0.00        12\n",
      "           6       0.33      0.37      0.35        19\n",
      "\n",
      "    accuracy                           0.37        99\n",
      "   macro avg       0.31      0.33      0.32        99\n",
      "weighted avg       0.32      0.37      0.34        99\n",
      "\n"
     ]
    }
   ],
   "source": [
    "# Train the KNN classifier\n",
    "knn_classifier_tri = KNeighborsClassifier(n_neighbors=5)\n",
    "knn_classifier_tri.fit(X_norm, y_train)\n",
    "\n",
    "# Evaluate the classifier\n",
    "y_pred = knn_classifier_tri.predict(X_norm_test)\n",
    "accuracy = accuracy_score(y_test, y_pred)\n",
    "report = classification_report(y_test, y_pred)\n",
    "\n",
    "print(\"Accuracy:\", accuracy)\n",
    "print(\"Classification Report:\\n\", report)"
   ]
  },
  {
   "cell_type": "markdown",
   "id": "6fd486766b641c7e",
   "metadata": {
    "collapsed": false
   },
   "source": [
    "3. Naive Bayesian Classification:"
   ]
  },
  {
   "cell_type": "code",
   "execution_count": null,
   "id": "211b335383b8b01d",
   "metadata": {
    "ExecuteTime": {
     "end_time": "2024-05-06T19:29:14.934830Z",
     "start_time": "2024-05-06T19:29:14.895831Z"
    },
    "collapsed": false
   },
   "outputs": [
    {
     "name": "stdout",
     "output_type": "stream",
     "text": [
      "Accuracy: 0.2727272727272727\n",
      "Classification Report:\n",
      "               precision    recall  f1-score   support\n",
      "\n",
      "           0       0.26      0.67      0.37        15\n",
      "           1       0.29      0.40      0.33         5\n",
      "           2       0.00      0.00      0.00        18\n",
      "           3       0.38      0.62      0.47        13\n",
      "           4       0.00      0.00      0.00        17\n",
      "           5       0.50      0.08      0.14        12\n",
      "           6       0.20      0.32      0.24        19\n",
      "\n",
      "    accuracy                           0.27        99\n",
      "   macro avg       0.23      0.30      0.22        99\n",
      "weighted avg       0.20      0.27      0.20        99\n",
      "\n"
     ]
    },
    {
     "name": "stderr",
     "output_type": "stream",
     "text": [
      "/Users/alihamedi/mambaforge/envs/main-env/lib/python3.12/site-packages/sklearn/metrics/_classification.py:1509: UndefinedMetricWarning: Precision is ill-defined and being set to 0.0 in labels with no predicted samples. Use `zero_division` parameter to control this behavior.\n",
      "  _warn_prf(average, modifier, f\"{metric.capitalize()} is\", len(result))\n",
      "/Users/alihamedi/mambaforge/envs/main-env/lib/python3.12/site-packages/sklearn/metrics/_classification.py:1509: UndefinedMetricWarning: Precision is ill-defined and being set to 0.0 in labels with no predicted samples. Use `zero_division` parameter to control this behavior.\n",
      "  _warn_prf(average, modifier, f\"{metric.capitalize()} is\", len(result))\n",
      "/Users/alihamedi/mambaforge/envs/main-env/lib/python3.12/site-packages/sklearn/metrics/_classification.py:1509: UndefinedMetricWarning: Precision is ill-defined and being set to 0.0 in labels with no predicted samples. Use `zero_division` parameter to control this behavior.\n",
      "  _warn_prf(average, modifier, f\"{metric.capitalize()} is\", len(result))\n"
     ]
    }
   ],
   "source": [
    "# Train the GNB classifier\n",
    "gnb_classifier_tri = GaussianNB()\n",
    "gnb_classifier_tri.fit(X_norm, y_train)\n",
    "\n",
    "# Evaluate the classifier\n",
    "y_pred = gnb_classifier_tri.predict(X_norm_test)\n",
    "accuracy = accuracy_score(y_test, y_pred)\n",
    "report = classification_report(y_test, y_pred)\n",
    "\n",
    "print(\"Accuracy:\", accuracy)\n",
    "print(\"Classification Report:\\n\", report)"
   ]
  },
  {
   "cell_type": "markdown",
   "id": "efbb9c36ff5c606f",
   "metadata": {
    "collapsed": false
   },
   "source": [
    "4. Decision Tree:"
   ]
  },
  {
   "cell_type": "code",
   "execution_count": null,
   "id": "61616999675a29aa",
   "metadata": {
    "ExecuteTime": {
     "end_time": "2024-05-06T19:29:18.400840Z",
     "start_time": "2024-05-06T19:29:18.325510Z"
    },
    "collapsed": false
   },
   "outputs": [
    {
     "name": "stdout",
     "output_type": "stream",
     "text": [
      "Accuracy: 0.3838383838383838\n",
      "Classification Report:\n",
      "               precision    recall  f1-score   support\n",
      "\n",
      "           0       0.36      0.33      0.34        15\n",
      "           1       0.17      0.20      0.18         5\n",
      "           2       0.54      0.72      0.62        18\n",
      "           3       0.29      0.15      0.20        13\n",
      "           4       0.53      0.47      0.50        17\n",
      "           5       0.20      0.17      0.18        12\n",
      "           6       0.30      0.37      0.33        19\n",
      "\n",
      "    accuracy                           0.38        99\n",
      "   macro avg       0.34      0.35      0.34        99\n",
      "weighted avg       0.37      0.38      0.37        99\n",
      "\n"
     ]
    }
   ],
   "source": [
    "# Train the Tree classifier\n",
    "tree_classifier_tri = DecisionTreeClassifier() \n",
    "tree_classifier_tri.fit(X_norm, y_train)\n",
    "\n",
    "# Evaluate the classifier\n",
    "y_pred = tree_classifier_tri.predict(X_norm_test)\n",
    "accuracy = accuracy_score(y_test, y_pred)\n",
    "report = classification_report(y_test, y_pred)\n",
    "\n",
    "print(\"Accuracy:\", accuracy)\n",
    "print(\"Classification Report:\\n\", report)"
   ]
  },
  {
   "cell_type": "markdown",
   "id": "7662ec91bc9d82df",
   "metadata": {
    "collapsed": false
   },
   "source": [
    "5. Quadratic Discriminant Analysis:"
   ]
  },
  {
   "cell_type": "code",
   "execution_count": null,
   "id": "1ed2d65b2880fd7f",
   "metadata": {
    "ExecuteTime": {
     "end_time": "2024-05-06T19:29:21.239866Z",
     "start_time": "2024-05-06T19:29:21.023941Z"
    },
    "collapsed": false
   },
   "outputs": [
    {
     "name": "stderr",
     "output_type": "stream",
     "text": [
      "/Users/alihamedi/mambaforge/envs/main-env/lib/python3.12/site-packages/sklearn/discriminant_analysis.py:935: UserWarning: Variables are collinear\n",
      "  warnings.warn(\"Variables are collinear\")\n"
     ]
    },
    {
     "name": "stdout",
     "output_type": "stream",
     "text": [
      "train Accuracy: 1.0\n",
      "Accuracy: 0.21212121212121213\n",
      "Classification Report:\n",
      "               precision    recall  f1-score   support\n",
      "\n",
      "           0       0.11      0.07      0.08        15\n",
      "           1       0.00      0.00      0.00         5\n",
      "           2       0.30      0.50      0.38        18\n",
      "           3       0.00      0.00      0.00        13\n",
      "           4       0.36      0.29      0.32        17\n",
      "           5       0.21      0.25      0.23        12\n",
      "           6       0.19      0.16      0.17        19\n",
      "\n",
      "    accuracy                           0.21        99\n",
      "   macro avg       0.17      0.18      0.17        99\n",
      "weighted avg       0.19      0.21      0.20        99\n",
      "\n"
     ]
    }
   ],
   "source": [
    "# Train the QDA classifier\n",
    "qda_classifier_tri = QuadraticDiscriminantAnalysis()\n",
    "qda_classifier_tri.fit(X_norm, y_train)\n",
    "\n",
    "y_pred = qda_classifier_tri.predict(X_norm)\n",
    "accuracy = accuracy_score(y_train, y_pred)\n",
    "print(\"train Accuracy:\", accuracy)\n",
    "\n",
    "# Evaluate the classifier\n",
    "y_pred = qda_classifier_tri.predict(X_norm_test)\n",
    "accuracy = accuracy_score(y_test, y_pred)\n",
    "report = classification_report(y_test, y_pred)\n",
    "\n",
    "print(\"Accuracy:\", accuracy)\n",
    "print(\"Classification Report:\\n\", report)"
   ]
  },
  {
   "cell_type": "markdown",
   "id": "36c7e0b6a7eef043",
   "metadata": {
    "collapsed": false
   },
   "source": [
    "6. Random Forest:"
   ]
  },
  {
   "cell_type": "code",
   "execution_count": null,
   "id": "c39bc116a09a67a",
   "metadata": {
    "ExecuteTime": {
     "end_time": "2024-05-06T19:29:31.584914Z",
     "start_time": "2024-05-06T19:29:31.022924Z"
    },
    "collapsed": false
   },
   "outputs": [
    {
     "name": "stdout",
     "output_type": "stream",
     "text": [
      "train Accuracy: 1.0\n",
      "test Accuracy: 0.47474747474747475\n",
      "Classification Report:\n",
      "               precision    recall  f1-score   support\n",
      "\n",
      "           0       0.29      0.13      0.18        15\n",
      "           1       0.00      0.00      0.00         5\n",
      "           2       0.65      0.72      0.68        18\n",
      "           3       0.67      0.15      0.25        13\n",
      "           4       0.44      0.88      0.59        17\n",
      "           5       1.00      0.08      0.15        12\n",
      "           6       0.41      0.74      0.53        19\n",
      "\n",
      "    accuracy                           0.47        99\n",
      "   macro avg       0.49      0.39      0.34        99\n",
      "weighted avg       0.53      0.47      0.41        99\n",
      "\n"
     ]
    },
    {
     "name": "stderr",
     "output_type": "stream",
     "text": [
      "/Users/alihamedi/mambaforge/envs/main-env/lib/python3.12/site-packages/sklearn/metrics/_classification.py:1509: UndefinedMetricWarning: Precision is ill-defined and being set to 0.0 in labels with no predicted samples. Use `zero_division` parameter to control this behavior.\n",
      "  _warn_prf(average, modifier, f\"{metric.capitalize()} is\", len(result))\n",
      "/Users/alihamedi/mambaforge/envs/main-env/lib/python3.12/site-packages/sklearn/metrics/_classification.py:1509: UndefinedMetricWarning: Precision is ill-defined and being set to 0.0 in labels with no predicted samples. Use `zero_division` parameter to control this behavior.\n",
      "  _warn_prf(average, modifier, f\"{metric.capitalize()} is\", len(result))\n",
      "/Users/alihamedi/mambaforge/envs/main-env/lib/python3.12/site-packages/sklearn/metrics/_classification.py:1509: UndefinedMetricWarning: Precision is ill-defined and being set to 0.0 in labels with no predicted samples. Use `zero_division` parameter to control this behavior.\n",
      "  _warn_prf(average, modifier, f\"{metric.capitalize()} is\", len(result))\n"
     ]
    }
   ],
   "source": [
    "# Train the rf classifier\n",
    "rf_classifier_tri = RandomForestClassifier()\n",
    "rf_classifier_tri.fit(X_norm, y_train)\n",
    "\n",
    "y_pred = rf_classifier_tri.predict(X_norm)\n",
    "accuracy = accuracy_score(y_train, y_pred)\n",
    "print(\"train Accuracy:\", accuracy)\n",
    "\n",
    "# Evaluate the classifier\n",
    "y_pred = rf_classifier_tri.predict(X_norm_test)\n",
    "accuracy = accuracy_score(y_test, y_pred)\n",
    "report = classification_report(y_test, y_pred)\n",
    "\n",
    "print(\"test Accuracy:\", accuracy)\n",
    "print(\"Classification Report:\\n\", report)"
   ]
  },
  {
   "cell_type": "markdown",
   "id": "5992dbcf55833ca5",
   "metadata": {
    "collapsed": false
   },
   "source": [
    "So based on the results:\n",
    "- some models\n",
    "- some other\n"
   ]
  },
  {
   "cell_type": "markdown",
   "id": "3c15d2cfaa423a90",
   "metadata": {
    "collapsed": false
   },
   "source": [
    "Now we introduce our own Neural Network model to outperform others:\n",
    "\n",
    "### Neural Network:"
   ]
  },
  {
   "cell_type": "code",
   "execution_count": null,
   "id": "5ec59419",
   "metadata": {},
   "outputs": [
    {
     "data": {
      "text/plain": [
       "(882, 904)"
      ]
     },
     "execution_count": 46,
     "metadata": {},
     "output_type": "execute_result"
    }
   ],
   "source": [
    "X_train, X_test, y_train, y_test = train_test_split(landmark_features, labels, test_size=0.1, random_state=42)\n",
    "\n",
    "X_train.shape"
   ]
  },
  {
   "cell_type": "code",
   "execution_count": null,
   "id": "1dc96e3da72c6a2",
   "metadata": {
    "ExecuteTime": {
     "start_time": "2024-05-06T19:45:29.226356Z"
    },
    "collapsed": false,
    "is_executing": true
   },
   "outputs": [
    {
     "ename": "ModuleNotFoundError",
     "evalue": "No module named 'tensorflow'",
     "output_type": "error",
     "traceback": [
      "\u001b[0;31m---------------------------------------------------------------------------\u001b[0m",
      "\u001b[0;31mModuleNotFoundError\u001b[0m                       Traceback (most recent call last)",
      "Cell \u001b[0;32mIn[44], line 1\u001b[0m\n\u001b[0;32m----> 1\u001b[0m \u001b[38;5;28;01mfrom\u001b[39;00m \u001b[38;5;21;01mtensorflow\u001b[39;00m\u001b[38;5;21;01m.\u001b[39;00m\u001b[38;5;21;01mkeras\u001b[39;00m\u001b[38;5;21;01m.\u001b[39;00m\u001b[38;5;21;01mmodels\u001b[39;00m \u001b[38;5;28;01mimport\u001b[39;00m Sequential\n\u001b[1;32m      2\u001b[0m \u001b[38;5;28;01mfrom\u001b[39;00m \u001b[38;5;21;01mtensorflow\u001b[39;00m\u001b[38;5;21;01m.\u001b[39;00m\u001b[38;5;21;01mkeras\u001b[39;00m\u001b[38;5;21;01m.\u001b[39;00m\u001b[38;5;21;01mlayers\u001b[39;00m \u001b[38;5;28;01mimport\u001b[39;00m Dense, Dropout, Conv2D, Flatten\n\u001b[1;32m      3\u001b[0m \u001b[38;5;28;01mfrom\u001b[39;00m \u001b[38;5;21;01mtensorflow\u001b[39;00m\u001b[38;5;21;01m.\u001b[39;00m\u001b[38;5;21;01mkeras\u001b[39;00m\u001b[38;5;21;01m.\u001b[39;00m\u001b[38;5;21;01mregularizers\u001b[39;00m \u001b[38;5;28;01mimport\u001b[39;00m l2\n",
      "\u001b[0;31mModuleNotFoundError\u001b[0m: No module named 'tensorflow'"
     ]
    }
   ],
   "source": [
    "from tensorflow.keras.models import Sequential\n",
    "from tensorflow.keras.layers import Dense, Dropout, Conv2D, Flatten\n",
    "from tensorflow.keras.regularizers import l2\n",
    "from tensorflow.keras.callbacks import EarlyStopping\n",
    "\n",
    "\n",
    "X_train, X_test, y_train, y_test = train_test_split(landmark_features, labels, test_size=0.1, random_state=42)\n",
    "\n",
    "\n",
    "X_train = np.array(X_train)\n",
    "X_test = np.array(X_test)\n",
    "y_train = np.array(y_train)\n",
    "y_test = np.array(y_test)\n",
    "\n",
    "model = Sequential([\n",
    "    Conv2D(32, (3, 3), activation='relu', kernel_regularizer=l2(0.1), input_shape=(982, 136, 1)),\n",
    "    Conv2D(64, (3, 3), activation='relu', kernel_regularizer=l2(0.1)),\n",
    "    Flatten(),\n",
    "    Dense(128, activation='relu', kernel_regularizer=l2(0.01)),\n",
    "    Dropout(0.4),\n",
    "    Dense(64, activation='relu', kernel_regularizer=l2(0.01)),\n",
    "    Dense(7, activation='softmax')\n",
    "])\n",
    "\n",
    "model.compile(optimizer='adam', loss='sparse_categorical_crossentropy', metrics=['accuracy'])\n",
    "\n",
    "# Early stopping monitor\n",
    "early_stopping_monitor = EarlyStopping(\n",
    "    monitor='val_accuracy',\n",
    "    patience=15,\n",
    "    restore_best_weights=True\n",
    ")\n",
    "\n",
    "# Train the model with early stopping\n",
    "model.fit(X_train, y_train, epochs=50, validation_split=0.1, callbacks=[early_stopping_monitor])\n",
    "\n",
    "# Evaluate on the test set\n",
    "test_loss, test_accuracy = model.evaluate(X_test, y_test)\n",
    "print(f\"Test Accuracy: {test_accuracy * 100:.2f}%\")\n"
   ]
  },
  {
   "cell_type": "code",
   "execution_count": null,
   "id": "409523a22bc847d4",
   "metadata": {
    "collapsed": false
   },
   "outputs": [],
   "source": [
    "import torch\n",
    "import torch.nn as nn\n",
    "import torch.nn.functional as F\n",
    "\n",
    "class SimpleNet(nn.Module):\n",
    "    def __init__(self):\n",
    "        super(SimpleNet, self).__init__()\n",
    "        self.fc1 = nn.Linear(10000,256)\n",
    "        self.fc2 = nn.Linear(256,128)\n",
    "        self.fc3 = nn.Linear(128,64)\n",
    "        self.fc4 = nn.Linear(64,32)\n",
    "        self.fc5 = nn.Linear(32,1)\n",
    "        self.fc6 = nn.Softmax(0)\n",
    "\n",
    "    def forward(self,x):\n",
    "        x = self.fc1(x)\n",
    "        x = F.relu(x)\n",
    "        x = self.fc2(x)\n",
    "        x = F.relu(x)\n",
    "        x = self.fc3(x)\n",
    "        x = F.relu(x)\n",
    "        x = F.dropout(x,0.7)\n",
    "        x = self.fc4(x)\n",
    "        x = F.relu(x)\n",
    "        x = self.fc5(x)\n",
    "        x = F.relu(x)\n",
    "        return self.fc6(x)\n",
    "        \n",
    "\n"
   ]
  }
 ],
 "metadata": {
  "kernelspec": {
   "display_name": "Python 3",
   "language": "python",
   "name": "python3"
  },
  "language_info": {
   "codemirror_mode": {
    "name": "ipython",
    "version": 3
   },
   "file_extension": ".py",
   "mimetype": "text/x-python",
   "name": "python",
   "nbconvert_exporter": "python",
   "pygments_lexer": "ipython3",
   "version": "3.12.3"
  }
 },
 "nbformat": 4,
 "nbformat_minor": 5
}
